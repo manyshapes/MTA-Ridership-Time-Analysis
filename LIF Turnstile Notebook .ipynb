{
 "cells": [
  {
   "cell_type": "markdown",
   "metadata": {},
   "source": [
    "# NYC MTA\n",
    "\n",
    "This notebook will explore patterns in traffic for the NYC MTA system. Notably these findings will be used to determine measures for spreading out peak traffic time. Visualizations created are to aid the viewer in understanding what lulls may be opportune times for taking on some of peak transit traffic."
   ]
  },
  {
   "cell_type": "code",
   "execution_count": 1,
   "metadata": {},
   "outputs": [],
   "source": [
    "import pandas as pd\n",
    "import numpy as np"
   ]
  },
  {
   "cell_type": "markdown",
   "metadata": {},
   "source": [
    "## Getting Data"
   ]
  },
  {
   "cell_type": "markdown",
   "metadata": {},
   "source": [
    "Getting data online will have to be performed first if not already saved on desktop. For a one-time use online data is a handy retrieval method. But for multiple notebook sessions, it's most seamless to save the data locally after retrieval. Accessing local data can then be the only method of importing."
   ]
  },
  {
   "cell_type": "code",
   "execution_count": 2,
   "metadata": {},
   "outputs": [],
   "source": [
    "# Source: http://web.mta.info/developers/turnstile.html\n",
    "\n",
    "def get_data_online(week_nums):\n",
    "    url = \"http://web.mta.info/developers/data/nyct/turnstile/turnstile_{}.txt\"\n",
    "    dfs = []\n",
    "    for week_num in week_nums:\n",
    "        file_url = url.format(week_num)\n",
    "        dfs.append(pd.read_csv(file_url))\n",
    "    return pd.concat(dfs)\n",
    "\n",
    "def get_csv_data(ourCSV):\n",
    "    df = pd.read_csv(ourCSV)\n",
    "    del df[\"Unnamed: 0\"]\n",
    "    return df"
   ]
  },
  {
   "cell_type": "markdown",
   "metadata": {},
   "source": [
    "The week numbers for retrieving data online follow the format year, month, day, with each week number being on a saturday.\n",
    "\n",
    "Time Frames (3 wks each) of interest for the project:\n",
    "1. Early to Mid December 2019\n",
    "2. Mid to Late March 2020\n",
    "3. Mid to Late June 2020"
   ]
  },
  {
   "cell_type": "markdown",
   "metadata": {},
   "source": [
    "The code for getting data from online is as follows.\n",
    "\n",
    "`week_nums = [200613, 200620, 200627]\n",
    "june_turnstiles = get_data_online(week_nums)`\n",
    "\n",
    "`week_nums = [200328, 200321, 200314]\n",
    "march_turnstiles = get_data_online(week_nums)`\n",
    "\n",
    "`week_nums = [191207, 191214, 191221]\n",
    "december_turnstiles = get_data_online(week_nums)`"
   ]
  },
  {
   "cell_type": "markdown",
   "metadata": {},
   "source": [
    "Place holder "
   ]
  },
  {
   "cell_type": "markdown",
   "metadata": {},
   "source": [
    "`week_nums = [200613, 200620, 200627]\n",
    "june_turnstilesv1 = get_data_online(week_nums)`\n",
    "\n",
    "`week_nums = [200328, 200321, 200314]\n",
    "march_turnstilesv1 = get_data_online(week_nums)`\n",
    "\n",
    "`week_nums = [191207, 191214, 191221]\n",
    "december_turnstilesv1 = get_data_online(week_nums)`"
   ]
  },
  {
   "cell_type": "markdown",
   "metadata": {},
   "source": [
    "Once retrieved, this data can push it into .csvs\n",
    "\n",
    "`december_turnstiles.to_csv('december_turnstiles.csv')\n",
    "march_turnstiles.to_csv('march_turnstiles.csv')\n",
    "june_turnstiles.to_csv('june_turnstiles.csv')\n",
    "`"
   ]
  },
  {
   "cell_type": "markdown",
   "metadata": {},
   "source": [
    "Place holder"
   ]
  },
  {
   "cell_type": "markdown",
   "metadata": {},
   "source": [
    "`december_turnstilesv1.to_csv('v1december_turnstiles.csv')\n",
    "march_turnstilesv1.to_csv('v1march_turnstiles.csv')\n",
    "june_turnstilesv1.to_csv('v1june_turnstiles.csv')\n",
    "`"
   ]
  },
  {
   "cell_type": "code",
   "execution_count": 3,
   "metadata": {},
   "outputs": [],
   "source": [
    "december_turnstiles = get_csv_data('december_turnstiles.csv')\n",
    "march_turnstiles = get_csv_data('march_turnstiles.csv')\n",
    "june_turnstiles = get_csv_data('june_turnstiles.csv')"
   ]
  },
  {
   "cell_type": "markdown",
   "metadata": {},
   "source": [
    "## Cleaning Up "
   ]
  },
  {
   "cell_type": "markdown",
   "metadata": {},
   "source": [
    " The data's timestamp will need to be combined into one column.\n",
    " Column names should also be stripped of any white space."
   ]
  },
  {
   "cell_type": "markdown",
   "metadata": {},
   "source": [
    "##### Initial Column Adjustment"
   ]
  },
  {
   "cell_type": "code",
   "execution_count": 4,
   "metadata": {},
   "outputs": [],
   "source": [
    "def betterColumns(dataframe):\n",
    "    dataframe['TIMESTAMP'] = pd.to_datetime(dataframe['DATE'] + ' ' + dataframe['TIME'])\n",
    "    dataframe.columns = dataframe.columns.str.rstrip()\n",
    "    dataframe['FOOTTRAFFIC'] = dataframe['ENTRIES'] + dataframe['EXITS']\n",
    "    return dataframe\n",
    "\n",
    "def trafficFix(dataframe):\n",
    "    dataframe['FOOTTRAFFIC'] = dataframe.groupby('TURNSTILE')['FOOTTRAFFIC'].diff().fillna(method='backfill')\n",
    "    dataframe['FOOTTRAFFIC'] = dataframe['FOOTTRAFFIC'].astype(int)\n",
    "    return dataframe"
   ]
  },
  {
   "cell_type": "markdown",
   "metadata": {},
   "source": [
    "```june_turnstiles = betterColumns(june_turnstiles)\n",
    "march_turnstiles = betterColumns(march_turnstiles)\n",
    "december_turnstiles = betterColumns(december_turnstiles)\n",
    "```"
   ]
  },
  {
   "cell_type": "markdown",
   "metadata": {},
   "source": [
    "##### Turnstiles' Column"
   ]
  },
  {
   "cell_type": "markdown",
   "metadata": {},
   "source": [
    "Data in available C/A, UNIT, SCP, & Station are used to discern unique turnstiles for creation of a turnstile column."
   ]
  },
  {
   "cell_type": "code",
   "execution_count": 5,
   "metadata": {},
   "outputs": [],
   "source": [
    "def turnstileColumn(dataframe):\n",
    "    '''\n",
    "    Takes an MTA dataframe & creates a new column\n",
    "    Where there's an index number for each Turn Stile in frame.\n",
    "    '''\n",
    "    eachTS = dataframe.groupby([\"C/A\", \"UNIT\", \"SCP\", \"STATION\"])[['ENTRIES']].sum()\n",
    "    howMany = eachTS.shape[0]\n",
    "    eachTS['TURNSTILE'] = range(1,(howMany + 1))\n",
    "    del eachTS['ENTRIES']\n",
    "    dataframe = pd.merge(dataframe, eachTS,  how='left',\n",
    "                         left_on=['C/A','UNIT','SCP', 'STATION'],\n",
    "                         right_on = ['C/A','UNIT','SCP', 'STATION'])    \n",
    "    return dataframe"
   ]
  },
  {
   "cell_type": "markdown",
   "metadata": {},
   "source": [
    "```june_turnstiles = turnstileColumn(june_turnstiles)\n",
    "march_turnstiles = turnstileColumn(march_turnstiles)\n",
    "december_turnstiles = turnstileColumn(december_turnstiles)\n",
    "```"
   ]
  },
  {
   "cell_type": "markdown",
   "metadata": {},
   "source": [
    "#### Updating Foot Traffic Column"
   ]
  },
  {
   "cell_type": "markdown",
   "metadata": {},
   "source": [
    "```june_turnstiles = trafficFix(june_turnstiles)\n",
    "march_turnstiles = trafficFix(march_turnstiles)\n",
    "december_turnstiles = trafficFix(december_turnstiles)\n",
    "```"
   ]
  },
  {
   "cell_type": "code",
   "execution_count": 15,
   "metadata": {},
   "outputs": [
    {
     "data": {
      "text/html": [
       "<div>\n",
       "<style scoped>\n",
       "    .dataframe tbody tr th:only-of-type {\n",
       "        vertical-align: middle;\n",
       "    }\n",
       "\n",
       "    .dataframe tbody tr th {\n",
       "        vertical-align: top;\n",
       "    }\n",
       "\n",
       "    .dataframe thead th {\n",
       "        text-align: right;\n",
       "    }\n",
       "</style>\n",
       "<table border=\"1\" class=\"dataframe\">\n",
       "  <thead>\n",
       "    <tr style=\"text-align: right;\">\n",
       "      <th></th>\n",
       "      <th>C/A</th>\n",
       "      <th>UNIT</th>\n",
       "      <th>SCP</th>\n",
       "      <th>STATION</th>\n",
       "      <th>LINENAME</th>\n",
       "      <th>DIVISION</th>\n",
       "      <th>DATE</th>\n",
       "      <th>TIME</th>\n",
       "      <th>DESC</th>\n",
       "      <th>ENTRIES</th>\n",
       "      <th>EXITS</th>\n",
       "      <th>TIMESTAMP</th>\n",
       "      <th>FOOTTRAFFIC</th>\n",
       "      <th>TURNSTILE</th>\n",
       "    </tr>\n",
       "  </thead>\n",
       "  <tbody>\n",
       "    <tr>\n",
       "      <th>0</th>\n",
       "      <td>A002</td>\n",
       "      <td>R051</td>\n",
       "      <td>02-00-00</td>\n",
       "      <td>59 ST</td>\n",
       "      <td>NQR456W</td>\n",
       "      <td>BMT</td>\n",
       "      <td>03/21/2020</td>\n",
       "      <td>00:00:00</td>\n",
       "      <td>REGULAR</td>\n",
       "      <td>7411940</td>\n",
       "      <td>2515962</td>\n",
       "      <td>2020-03-21 00:00:00</td>\n",
       "      <td>6</td>\n",
       "      <td>1</td>\n",
       "    </tr>\n",
       "    <tr>\n",
       "      <th>1</th>\n",
       "      <td>A002</td>\n",
       "      <td>R051</td>\n",
       "      <td>02-00-00</td>\n",
       "      <td>59 ST</td>\n",
       "      <td>NQR456W</td>\n",
       "      <td>BMT</td>\n",
       "      <td>03/21/2020</td>\n",
       "      <td>04:00:00</td>\n",
       "      <td>REGULAR</td>\n",
       "      <td>7411942</td>\n",
       "      <td>2515966</td>\n",
       "      <td>2020-03-21 04:00:00</td>\n",
       "      <td>6</td>\n",
       "      <td>1</td>\n",
       "    </tr>\n",
       "    <tr>\n",
       "      <th>2</th>\n",
       "      <td>A002</td>\n",
       "      <td>R051</td>\n",
       "      <td>02-00-00</td>\n",
       "      <td>59 ST</td>\n",
       "      <td>NQR456W</td>\n",
       "      <td>BMT</td>\n",
       "      <td>03/21/2020</td>\n",
       "      <td>08:00:00</td>\n",
       "      <td>REGULAR</td>\n",
       "      <td>7411945</td>\n",
       "      <td>2515979</td>\n",
       "      <td>2020-03-21 08:00:00</td>\n",
       "      <td>16</td>\n",
       "      <td>1</td>\n",
       "    </tr>\n",
       "    <tr>\n",
       "      <th>3</th>\n",
       "      <td>A002</td>\n",
       "      <td>R051</td>\n",
       "      <td>02-00-00</td>\n",
       "      <td>59 ST</td>\n",
       "      <td>NQR456W</td>\n",
       "      <td>BMT</td>\n",
       "      <td>03/21/2020</td>\n",
       "      <td>12:00:00</td>\n",
       "      <td>REGULAR</td>\n",
       "      <td>7411969</td>\n",
       "      <td>2516000</td>\n",
       "      <td>2020-03-21 12:00:00</td>\n",
       "      <td>45</td>\n",
       "      <td>1</td>\n",
       "    </tr>\n",
       "    <tr>\n",
       "      <th>4</th>\n",
       "      <td>A002</td>\n",
       "      <td>R051</td>\n",
       "      <td>02-00-00</td>\n",
       "      <td>59 ST</td>\n",
       "      <td>NQR456W</td>\n",
       "      <td>BMT</td>\n",
       "      <td>03/21/2020</td>\n",
       "      <td>16:00:00</td>\n",
       "      <td>REGULAR</td>\n",
       "      <td>7412028</td>\n",
       "      <td>2516024</td>\n",
       "      <td>2020-03-21 16:00:00</td>\n",
       "      <td>83</td>\n",
       "      <td>1</td>\n",
       "    </tr>\n",
       "    <tr>\n",
       "      <th>...</th>\n",
       "      <td>...</td>\n",
       "      <td>...</td>\n",
       "      <td>...</td>\n",
       "      <td>...</td>\n",
       "      <td>...</td>\n",
       "      <td>...</td>\n",
       "      <td>...</td>\n",
       "      <td>...</td>\n",
       "      <td>...</td>\n",
       "      <td>...</td>\n",
       "      <td>...</td>\n",
       "      <td>...</td>\n",
       "      <td>...</td>\n",
       "      <td>...</td>\n",
       "    </tr>\n",
       "    <tr>\n",
       "      <th>616467</th>\n",
       "      <td>TRAM2</td>\n",
       "      <td>R469</td>\n",
       "      <td>00-05-01</td>\n",
       "      <td>RIT-ROOSEVELT</td>\n",
       "      <td>R</td>\n",
       "      <td>RIT</td>\n",
       "      <td>03/13/2020</td>\n",
       "      <td>05:00:00</td>\n",
       "      <td>REGULAR</td>\n",
       "      <td>5554</td>\n",
       "      <td>507</td>\n",
       "      <td>2020-03-13 05:00:00</td>\n",
       "      <td>0</td>\n",
       "      <td>4935</td>\n",
       "    </tr>\n",
       "    <tr>\n",
       "      <th>616468</th>\n",
       "      <td>TRAM2</td>\n",
       "      <td>R469</td>\n",
       "      <td>00-05-01</td>\n",
       "      <td>RIT-ROOSEVELT</td>\n",
       "      <td>R</td>\n",
       "      <td>RIT</td>\n",
       "      <td>03/13/2020</td>\n",
       "      <td>09:00:00</td>\n",
       "      <td>REGULAR</td>\n",
       "      <td>5554</td>\n",
       "      <td>507</td>\n",
       "      <td>2020-03-13 09:00:00</td>\n",
       "      <td>0</td>\n",
       "      <td>4935</td>\n",
       "    </tr>\n",
       "    <tr>\n",
       "      <th>616469</th>\n",
       "      <td>TRAM2</td>\n",
       "      <td>R469</td>\n",
       "      <td>00-05-01</td>\n",
       "      <td>RIT-ROOSEVELT</td>\n",
       "      <td>R</td>\n",
       "      <td>RIT</td>\n",
       "      <td>03/13/2020</td>\n",
       "      <td>13:00:00</td>\n",
       "      <td>REGULAR</td>\n",
       "      <td>5554</td>\n",
       "      <td>507</td>\n",
       "      <td>2020-03-13 13:00:00</td>\n",
       "      <td>0</td>\n",
       "      <td>4935</td>\n",
       "    </tr>\n",
       "    <tr>\n",
       "      <th>616470</th>\n",
       "      <td>TRAM2</td>\n",
       "      <td>R469</td>\n",
       "      <td>00-05-01</td>\n",
       "      <td>RIT-ROOSEVELT</td>\n",
       "      <td>R</td>\n",
       "      <td>RIT</td>\n",
       "      <td>03/13/2020</td>\n",
       "      <td>17:00:00</td>\n",
       "      <td>REGULAR</td>\n",
       "      <td>5554</td>\n",
       "      <td>507</td>\n",
       "      <td>2020-03-13 17:00:00</td>\n",
       "      <td>0</td>\n",
       "      <td>4935</td>\n",
       "    </tr>\n",
       "    <tr>\n",
       "      <th>616471</th>\n",
       "      <td>TRAM2</td>\n",
       "      <td>R469</td>\n",
       "      <td>00-05-01</td>\n",
       "      <td>RIT-ROOSEVELT</td>\n",
       "      <td>R</td>\n",
       "      <td>RIT</td>\n",
       "      <td>03/13/2020</td>\n",
       "      <td>21:00:00</td>\n",
       "      <td>REGULAR</td>\n",
       "      <td>5554</td>\n",
       "      <td>507</td>\n",
       "      <td>2020-03-13 21:00:00</td>\n",
       "      <td>0</td>\n",
       "      <td>4935</td>\n",
       "    </tr>\n",
       "  </tbody>\n",
       "</table>\n",
       "<p>616472 rows × 14 columns</p>\n",
       "</div>"
      ],
      "text/plain": [
       "          C/A  UNIT       SCP        STATION LINENAME DIVISION        DATE  \\\n",
       "0        A002  R051  02-00-00          59 ST  NQR456W      BMT  03/21/2020   \n",
       "1        A002  R051  02-00-00          59 ST  NQR456W      BMT  03/21/2020   \n",
       "2        A002  R051  02-00-00          59 ST  NQR456W      BMT  03/21/2020   \n",
       "3        A002  R051  02-00-00          59 ST  NQR456W      BMT  03/21/2020   \n",
       "4        A002  R051  02-00-00          59 ST  NQR456W      BMT  03/21/2020   \n",
       "...       ...   ...       ...            ...      ...      ...         ...   \n",
       "616467  TRAM2  R469  00-05-01  RIT-ROOSEVELT        R      RIT  03/13/2020   \n",
       "616468  TRAM2  R469  00-05-01  RIT-ROOSEVELT        R      RIT  03/13/2020   \n",
       "616469  TRAM2  R469  00-05-01  RIT-ROOSEVELT        R      RIT  03/13/2020   \n",
       "616470  TRAM2  R469  00-05-01  RIT-ROOSEVELT        R      RIT  03/13/2020   \n",
       "616471  TRAM2  R469  00-05-01  RIT-ROOSEVELT        R      RIT  03/13/2020   \n",
       "\n",
       "            TIME     DESC  ENTRIES    EXITS            TIMESTAMP  FOOTTRAFFIC  \\\n",
       "0       00:00:00  REGULAR  7411940  2515962  2020-03-21 00:00:00            6   \n",
       "1       04:00:00  REGULAR  7411942  2515966  2020-03-21 04:00:00            6   \n",
       "2       08:00:00  REGULAR  7411945  2515979  2020-03-21 08:00:00           16   \n",
       "3       12:00:00  REGULAR  7411969  2516000  2020-03-21 12:00:00           45   \n",
       "4       16:00:00  REGULAR  7412028  2516024  2020-03-21 16:00:00           83   \n",
       "...          ...      ...      ...      ...                  ...          ...   \n",
       "616467  05:00:00  REGULAR     5554      507  2020-03-13 05:00:00            0   \n",
       "616468  09:00:00  REGULAR     5554      507  2020-03-13 09:00:00            0   \n",
       "616469  13:00:00  REGULAR     5554      507  2020-03-13 13:00:00            0   \n",
       "616470  17:00:00  REGULAR     5554      507  2020-03-13 17:00:00            0   \n",
       "616471  21:00:00  REGULAR     5554      507  2020-03-13 21:00:00            0   \n",
       "\n",
       "        TURNSTILE  \n",
       "0               1  \n",
       "1               1  \n",
       "2               1  \n",
       "3               1  \n",
       "4               1  \n",
       "...           ...  \n",
       "616467       4935  \n",
       "616468       4935  \n",
       "616469       4935  \n",
       "616470       4935  \n",
       "616471       4935  \n",
       "\n",
       "[616472 rows x 14 columns]"
      ]
     },
     "execution_count": 15,
     "metadata": {},
     "output_type": "execute_result"
    }
   ],
   "source": [
    "march_turnstiles.\n",
    "# december_turnstiles.head(2)"
   ]
  },
  {
   "cell_type": "markdown",
   "metadata": {},
   "source": [
    "#### No more negatives\n",
    "7/3 note- hasn't been written to CSV yet. needs to be used"
   ]
  },
  {
   "cell_type": "code",
   "execution_count": 7,
   "metadata": {},
   "outputs": [],
   "source": [
    "def noNegatives(dataframe):\n",
    "    dataframe[dataframe['FOOTTRAFFIC'] < 0] = np.nan\n",
    "    grouped = dataframe.groupby('TURNSTILE')['FOOTTRAFFIC'].mean()\n",
    "    dataframe = pd.merge(dataframe, grouped,  how='left',\n",
    "                         left_on=['TURNSTILE'],\n",
    "                         right_on = ['TURNSTILE'])\n",
    "    dataframe['FOOTTRAFFIC'] = dataframe.FOOTTRAFFIC_x.fillna(dataframe.FOOTTRAFFIC_y)\n",
    "    del dataframe['FOOTTRAFFIC_x']\n",
    "    dataframe = dataframe.rename(columns = {'FOOTTRAFFIC_y':'MEANTRAFFIC'})\n",
    "    return dataframe"
   ]
  },
  {
   "cell_type": "markdown",
   "metadata": {},
   "source": [
    "```june_turnstiles = noNegatives(june_turnstiles)\n",
    "march_turnstiles = noNegatives(march_turnstiles)\n",
    "december_turnstiles = noNegatives(december_turnstiles)\n",
    "```"
   ]
  },
  {
   "cell_type": "markdown",
   "metadata": {},
   "source": [
    "Let's be sure !"
   ]
  },
  {
   "cell_type": "code",
   "execution_count": 8,
   "metadata": {},
   "outputs": [
    {
     "name": "stdout",
     "output_type": "stream",
     "text": [
      "(14499, 14)\n",
      "(13963, 14)\n",
      "(5752, 14)\n"
     ]
    }
   ],
   "source": [
    "no_good = march_turnstiles[march_turnstiles['FOOTTRAFFIC'] < 0]\n",
    "print(no_good.shape)\n",
    "no_good = june_turnstiles[june_turnstiles['FOOTTRAFFIC'] < 0]\n",
    "print(no_good.shape)\n",
    "no_good = december_turnstiles[december_turnstiles['FOOTTRAFFIC'] < 0]\n",
    "print(no_good.shape)"
   ]
  },
  {
   "cell_type": "markdown",
   "metadata": {},
   "source": [
    "#### Re-writing to CSVS\n",
    "Now that our data is in good condition it's helpful to save again these updated frames."
   ]
  },
  {
   "cell_type": "markdown",
   "metadata": {},
   "source": [
    "`\n",
    "december_turnstiles.to_csv('december_turnstiles.csv')\n",
    "march_turnstiles.to_csv('march_turnstiles.csv')\n",
    "june_turnstiles.to_csv('june_turnstiles.csv')\n",
    "`"
   ]
  },
  {
   "cell_type": "markdown",
   "metadata": {},
   "source": [
    "### General Data Infos"
   ]
  },
  {
   "cell_type": "code",
   "execution_count": 9,
   "metadata": {},
   "outputs": [
    {
     "name": "stdout",
     "output_type": "stream",
     "text": [
      "(620072, 14) \n",
      "\n",
      "Columns:\n",
      " Index(['C/A', 'UNIT', 'SCP', 'STATION', 'LINENAME', 'DIVISION', 'DATE', 'TIME',\n",
      "       'DESC', 'ENTRIES', 'EXITS', 'TIMESTAMP', 'FOOTTRAFFIC', 'TURNSTILE'],\n",
      "      dtype='object')\n"
     ]
    },
    {
     "data": {
      "text/html": [
       "<div>\n",
       "<style scoped>\n",
       "    .dataframe tbody tr th:only-of-type {\n",
       "        vertical-align: middle;\n",
       "    }\n",
       "\n",
       "    .dataframe tbody tr th {\n",
       "        vertical-align: top;\n",
       "    }\n",
       "\n",
       "    .dataframe thead th {\n",
       "        text-align: right;\n",
       "    }\n",
       "</style>\n",
       "<table border=\"1\" class=\"dataframe\">\n",
       "  <thead>\n",
       "    <tr style=\"text-align: right;\">\n",
       "      <th></th>\n",
       "      <th>C/A</th>\n",
       "      <th>UNIT</th>\n",
       "      <th>SCP</th>\n",
       "      <th>STATION</th>\n",
       "      <th>LINENAME</th>\n",
       "      <th>DIVISION</th>\n",
       "      <th>DATE</th>\n",
       "      <th>TIME</th>\n",
       "      <th>DESC</th>\n",
       "      <th>ENTRIES</th>\n",
       "      <th>EXITS</th>\n",
       "      <th>TIMESTAMP</th>\n",
       "      <th>FOOTTRAFFIC</th>\n",
       "      <th>TURNSTILE</th>\n",
       "    </tr>\n",
       "  </thead>\n",
       "  <tbody>\n",
       "    <tr>\n",
       "      <th>0</th>\n",
       "      <td>A002</td>\n",
       "      <td>R051</td>\n",
       "      <td>02-00-00</td>\n",
       "      <td>59 ST</td>\n",
       "      <td>NQR456W</td>\n",
       "      <td>BMT</td>\n",
       "      <td>06/20/2020</td>\n",
       "      <td>00:00:00</td>\n",
       "      <td>REGULAR</td>\n",
       "      <td>7424218</td>\n",
       "      <td>2522558</td>\n",
       "      <td>2020-06-20 00:00:00</td>\n",
       "      <td>3</td>\n",
       "      <td>1</td>\n",
       "    </tr>\n",
       "    <tr>\n",
       "      <th>1</th>\n",
       "      <td>A002</td>\n",
       "      <td>R051</td>\n",
       "      <td>02-00-00</td>\n",
       "      <td>59 ST</td>\n",
       "      <td>NQR456W</td>\n",
       "      <td>BMT</td>\n",
       "      <td>06/20/2020</td>\n",
       "      <td>04:00:00</td>\n",
       "      <td>REGULAR</td>\n",
       "      <td>7424220</td>\n",
       "      <td>2522559</td>\n",
       "      <td>2020-06-20 04:00:00</td>\n",
       "      <td>3</td>\n",
       "      <td>1</td>\n",
       "    </tr>\n",
       "  </tbody>\n",
       "</table>\n",
       "</div>"
      ],
      "text/plain": [
       "    C/A  UNIT       SCP STATION LINENAME DIVISION        DATE      TIME  \\\n",
       "0  A002  R051  02-00-00   59 ST  NQR456W      BMT  06/20/2020  00:00:00   \n",
       "1  A002  R051  02-00-00   59 ST  NQR456W      BMT  06/20/2020  04:00:00   \n",
       "\n",
       "      DESC  ENTRIES    EXITS            TIMESTAMP  FOOTTRAFFIC  TURNSTILE  \n",
       "0  REGULAR  7424218  2522558  2020-06-20 00:00:00            3          1  \n",
       "1  REGULAR  7424220  2522559  2020-06-20 04:00:00            3          1  "
      ]
     },
     "execution_count": 9,
     "metadata": {},
     "output_type": "execute_result"
    }
   ],
   "source": [
    "print(june_turnstiles.shape, '\\n')\n",
    "print('Columns:\\n' , june_turnstiles.columns)\n",
    "june_turnstiles.head(2)"
   ]
  },
  {
   "cell_type": "markdown",
   "metadata": {},
   "source": [
    "#### Finding Daily Foottraffic Numbers"
   ]
  },
  {
   "cell_type": "code",
   "execution_count": 10,
   "metadata": {},
   "outputs": [
    {
     "data": {
      "text/html": [
       "<div>\n",
       "<style scoped>\n",
       "    .dataframe tbody tr th:only-of-type {\n",
       "        vertical-align: middle;\n",
       "    }\n",
       "\n",
       "    .dataframe tbody tr th {\n",
       "        vertical-align: top;\n",
       "    }\n",
       "\n",
       "    .dataframe thead th {\n",
       "        text-align: right;\n",
       "    }\n",
       "</style>\n",
       "<table border=\"1\" class=\"dataframe\">\n",
       "  <thead>\n",
       "    <tr style=\"text-align: right;\">\n",
       "      <th></th>\n",
       "      <th>C/A</th>\n",
       "      <th>UNIT</th>\n",
       "      <th>SCP</th>\n",
       "      <th>STATION</th>\n",
       "      <th>LINENAME</th>\n",
       "      <th>DIVISION</th>\n",
       "      <th>DATE</th>\n",
       "      <th>TIME</th>\n",
       "      <th>DESC</th>\n",
       "      <th>ENTRIES</th>\n",
       "      <th>EXITS</th>\n",
       "      <th>TIMESTAMP</th>\n",
       "      <th>FOOTTRAFFIC</th>\n",
       "      <th>TURNSTILE</th>\n",
       "    </tr>\n",
       "  </thead>\n",
       "  <tbody>\n",
       "    <tr>\n",
       "      <th>0</th>\n",
       "      <td>A002</td>\n",
       "      <td>R051</td>\n",
       "      <td>02-00-00</td>\n",
       "      <td>59 ST</td>\n",
       "      <td>NQR456W</td>\n",
       "      <td>BMT</td>\n",
       "      <td>06/20/2020</td>\n",
       "      <td>00:00:00</td>\n",
       "      <td>REGULAR</td>\n",
       "      <td>7424218</td>\n",
       "      <td>2522558</td>\n",
       "      <td>2020-06-20 00:00:00</td>\n",
       "      <td>3</td>\n",
       "      <td>1</td>\n",
       "    </tr>\n",
       "    <tr>\n",
       "      <th>1</th>\n",
       "      <td>A002</td>\n",
       "      <td>R051</td>\n",
       "      <td>02-00-00</td>\n",
       "      <td>59 ST</td>\n",
       "      <td>NQR456W</td>\n",
       "      <td>BMT</td>\n",
       "      <td>06/20/2020</td>\n",
       "      <td>04:00:00</td>\n",
       "      <td>REGULAR</td>\n",
       "      <td>7424220</td>\n",
       "      <td>2522559</td>\n",
       "      <td>2020-06-20 04:00:00</td>\n",
       "      <td>3</td>\n",
       "      <td>1</td>\n",
       "    </tr>\n",
       "  </tbody>\n",
       "</table>\n",
       "</div>"
      ],
      "text/plain": [
       "    C/A  UNIT       SCP STATION LINENAME DIVISION        DATE      TIME  \\\n",
       "0  A002  R051  02-00-00   59 ST  NQR456W      BMT  06/20/2020  00:00:00   \n",
       "1  A002  R051  02-00-00   59 ST  NQR456W      BMT  06/20/2020  04:00:00   \n",
       "\n",
       "      DESC  ENTRIES    EXITS            TIMESTAMP  FOOTTRAFFIC  TURNSTILE  \n",
       "0  REGULAR  7424218  2522558  2020-06-20 00:00:00            3          1  \n",
       "1  REGULAR  7424220  2522559  2020-06-20 04:00:00            3          1  "
      ]
     },
     "execution_count": 10,
     "metadata": {},
     "output_type": "execute_result"
    }
   ],
   "source": [
    "june_turnstiles.head(2)"
   ]
  },
  {
   "cell_type": "markdown",
   "metadata": {},
   "source": [
    "as 0's"
   ]
  },
  {
   "cell_type": "code",
   "execution_count": 11,
   "metadata": {},
   "outputs": [
    {
     "data": {
      "text/html": [
       "<div>\n",
       "<style scoped>\n",
       "    .dataframe tbody tr th:only-of-type {\n",
       "        vertical-align: middle;\n",
       "    }\n",
       "\n",
       "    .dataframe tbody tr th {\n",
       "        vertical-align: top;\n",
       "    }\n",
       "\n",
       "    .dataframe thead th {\n",
       "        text-align: right;\n",
       "    }\n",
       "</style>\n",
       "<table border=\"1\" class=\"dataframe\">\n",
       "  <thead>\n",
       "    <tr style=\"text-align: right;\">\n",
       "      <th></th>\n",
       "      <th>TURNSTILE</th>\n",
       "      <th>DATE</th>\n",
       "      <th>FOOTTRAFFIC</th>\n",
       "    </tr>\n",
       "  </thead>\n",
       "  <tbody>\n",
       "    <tr>\n",
       "      <th>0</th>\n",
       "      <td>1</td>\n",
       "      <td>06/06/2020</td>\n",
       "      <td>-4539</td>\n",
       "    </tr>\n",
       "    <tr>\n",
       "      <th>1</th>\n",
       "      <td>1</td>\n",
       "      <td>06/07/2020</td>\n",
       "      <td>124</td>\n",
       "    </tr>\n",
       "  </tbody>\n",
       "</table>\n",
       "</div>"
      ],
      "text/plain": [
       "   TURNSTILE        DATE  FOOTTRAFFIC\n",
       "0          1  06/06/2020        -4539\n",
       "1          1  06/07/2020          124"
      ]
     },
     "execution_count": 11,
     "metadata": {},
     "output_type": "execute_result"
    }
   ],
   "source": [
    "daily_counts_df = june_turnstiles.groupby([\"TURNSTILE\",\"DATE\"],as_index=False)[\"FOOTTRAFFIC\"].sum()\n",
    "daily_counts_df.head(2)"
   ]
  },
  {
   "cell_type": "markdown",
   "metadata": {},
   "source": [
    "#### Checking for Top Stations"
   ]
  },
  {
   "cell_type": "markdown",
   "metadata": {},
   "source": [
    "Group by station,\n",
    "\n",
    "sum of foottraffic\n",
    "\n",
    "order this descending!\n",
    "\n",
    "Can do a slice for top 5 rows"
   ]
  },
  {
   "cell_type": "markdown",
   "metadata": {},
   "source": [
    "## Plotting Values\n",
    "- average for each hour ?\n",
    "- what stations are used at what time ?\n"
   ]
  },
  {
   "cell_type": "code",
   "execution_count": 12,
   "metadata": {},
   "outputs": [],
   "source": [
    "import matplotlib.pyplot as plt\n",
    "import numpy as np\n",
    "%matplotlib inline "
   ]
  },
  {
   "cell_type": "code",
   "execution_count": null,
   "metadata": {},
   "outputs": [],
   "source": []
  },
  {
   "cell_type": "code",
   "execution_count": 13,
   "metadata": {},
   "outputs": [
    {
     "name": "stderr",
     "output_type": "stream",
     "text": [
      "/Users/brian/opt/anaconda3/lib/python3.7/site-packages/pandas/core/ops/array_ops.py:253: FutureWarning: elementwise comparison failed; returning scalar instead, but in the future will perform elementwise comparison\n",
      "  res_values = method(rvalues)\n"
     ]
    },
    {
     "ename": "KeyError",
     "evalue": "'DAILY_ENTRIES'",
     "output_type": "error",
     "traceback": [
      "\u001b[0;31m---------------------------------------------------------------------------\u001b[0m",
      "\u001b[0;31mKeyError\u001b[0m                                  Traceback (most recent call last)",
      "\u001b[0;32m~/opt/anaconda3/lib/python3.7/site-packages/pandas/core/indexes/base.py\u001b[0m in \u001b[0;36mget_loc\u001b[0;34m(self, key, method, tolerance)\u001b[0m\n\u001b[1;32m   2645\u001b[0m             \u001b[0;32mtry\u001b[0m\u001b[0;34m:\u001b[0m\u001b[0;34m\u001b[0m\u001b[0;34m\u001b[0m\u001b[0m\n\u001b[0;32m-> 2646\u001b[0;31m                 \u001b[0;32mreturn\u001b[0m \u001b[0mself\u001b[0m\u001b[0;34m.\u001b[0m\u001b[0m_engine\u001b[0m\u001b[0;34m.\u001b[0m\u001b[0mget_loc\u001b[0m\u001b[0;34m(\u001b[0m\u001b[0mkey\u001b[0m\u001b[0;34m)\u001b[0m\u001b[0;34m\u001b[0m\u001b[0;34m\u001b[0m\u001b[0m\n\u001b[0m\u001b[1;32m   2647\u001b[0m             \u001b[0;32mexcept\u001b[0m \u001b[0mKeyError\u001b[0m\u001b[0;34m:\u001b[0m\u001b[0;34m\u001b[0m\u001b[0;34m\u001b[0m\u001b[0m\n",
      "\u001b[0;32mpandas/_libs/index.pyx\u001b[0m in \u001b[0;36mpandas._libs.index.IndexEngine.get_loc\u001b[0;34m()\u001b[0m\n",
      "\u001b[0;32mpandas/_libs/index.pyx\u001b[0m in \u001b[0;36mpandas._libs.index.IndexEngine.get_loc\u001b[0;34m()\u001b[0m\n",
      "\u001b[0;32mpandas/_libs/hashtable_class_helper.pxi\u001b[0m in \u001b[0;36mpandas._libs.hashtable.PyObjectHashTable.get_item\u001b[0;34m()\u001b[0m\n",
      "\u001b[0;32mpandas/_libs/hashtable_class_helper.pxi\u001b[0m in \u001b[0;36mpandas._libs.hashtable.PyObjectHashTable.get_item\u001b[0;34m()\u001b[0m\n",
      "\u001b[0;31mKeyError\u001b[0m: 'DAILY_ENTRIES'",
      "\nDuring handling of the above exception, another exception occurred:\n",
      "\u001b[0;31mKeyError\u001b[0m                                  Traceback (most recent call last)",
      "\u001b[0;32m<ipython-input-13-d4101c977525>\u001b[0m in \u001b[0;36m<module>\u001b[0;34m\u001b[0m\n\u001b[1;32m      3\u001b[0m \u001b[0;34m\u001b[0m\u001b[0m\n\u001b[1;32m      4\u001b[0m \u001b[0mdates\u001b[0m \u001b[0;34m=\u001b[0m \u001b[0mdaily_counts_df\u001b[0m\u001b[0;34m[\u001b[0m\u001b[0mdaily_counts_df\u001b[0m\u001b[0;34m[\u001b[0m\u001b[0;34m\"TURNSTILE\"\u001b[0m\u001b[0;34m]\u001b[0m \u001b[0;34m==\u001b[0m \u001b[0mturnstile\u001b[0m\u001b[0;34m]\u001b[0m\u001b[0;34m[\u001b[0m\u001b[0;34m\"DATE\"\u001b[0m\u001b[0;34m]\u001b[0m\u001b[0;34m\u001b[0m\u001b[0;34m\u001b[0m\u001b[0m\n\u001b[0;32m----> 5\u001b[0;31m \u001b[0mcounts\u001b[0m \u001b[0;34m=\u001b[0m \u001b[0mdaily_counts_df\u001b[0m\u001b[0;34m[\u001b[0m\u001b[0mdaily_counts_df\u001b[0m\u001b[0;34m[\u001b[0m\u001b[0;34m\"TURNSTILE\"\u001b[0m\u001b[0;34m]\u001b[0m \u001b[0;34m==\u001b[0m \u001b[0mturnstile\u001b[0m\u001b[0;34m]\u001b[0m\u001b[0;34m[\u001b[0m\u001b[0;34m\"DAILY_ENTRIES\"\u001b[0m\u001b[0;34m]\u001b[0m\u001b[0;34m\u001b[0m\u001b[0;34m\u001b[0m\u001b[0m\n\u001b[0m\u001b[1;32m      6\u001b[0m \u001b[0;34m\u001b[0m\u001b[0m\n\u001b[1;32m      7\u001b[0m \u001b[0mfig\u001b[0m\u001b[0;34m,\u001b[0m \u001b[0max\u001b[0m \u001b[0;34m=\u001b[0m \u001b[0mplt\u001b[0m\u001b[0;34m.\u001b[0m\u001b[0msubplots\u001b[0m\u001b[0;34m(\u001b[0m\u001b[0mfigsize\u001b[0m\u001b[0;34m=\u001b[0m\u001b[0;34m(\u001b[0m\u001b[0;36m10\u001b[0m\u001b[0;34m,\u001b[0m\u001b[0;36m3\u001b[0m\u001b[0;34m)\u001b[0m\u001b[0;34m)\u001b[0m\u001b[0;34m\u001b[0m\u001b[0;34m\u001b[0m\u001b[0m\n",
      "\u001b[0;32m~/opt/anaconda3/lib/python3.7/site-packages/pandas/core/frame.py\u001b[0m in \u001b[0;36m__getitem__\u001b[0;34m(self, key)\u001b[0m\n\u001b[1;32m   2798\u001b[0m             \u001b[0;32mif\u001b[0m \u001b[0mself\u001b[0m\u001b[0;34m.\u001b[0m\u001b[0mcolumns\u001b[0m\u001b[0;34m.\u001b[0m\u001b[0mnlevels\u001b[0m \u001b[0;34m>\u001b[0m \u001b[0;36m1\u001b[0m\u001b[0;34m:\u001b[0m\u001b[0;34m\u001b[0m\u001b[0;34m\u001b[0m\u001b[0m\n\u001b[1;32m   2799\u001b[0m                 \u001b[0;32mreturn\u001b[0m \u001b[0mself\u001b[0m\u001b[0;34m.\u001b[0m\u001b[0m_getitem_multilevel\u001b[0m\u001b[0;34m(\u001b[0m\u001b[0mkey\u001b[0m\u001b[0;34m)\u001b[0m\u001b[0;34m\u001b[0m\u001b[0;34m\u001b[0m\u001b[0m\n\u001b[0;32m-> 2800\u001b[0;31m             \u001b[0mindexer\u001b[0m \u001b[0;34m=\u001b[0m \u001b[0mself\u001b[0m\u001b[0;34m.\u001b[0m\u001b[0mcolumns\u001b[0m\u001b[0;34m.\u001b[0m\u001b[0mget_loc\u001b[0m\u001b[0;34m(\u001b[0m\u001b[0mkey\u001b[0m\u001b[0;34m)\u001b[0m\u001b[0;34m\u001b[0m\u001b[0;34m\u001b[0m\u001b[0m\n\u001b[0m\u001b[1;32m   2801\u001b[0m             \u001b[0;32mif\u001b[0m \u001b[0mis_integer\u001b[0m\u001b[0;34m(\u001b[0m\u001b[0mindexer\u001b[0m\u001b[0;34m)\u001b[0m\u001b[0;34m:\u001b[0m\u001b[0;34m\u001b[0m\u001b[0;34m\u001b[0m\u001b[0m\n\u001b[1;32m   2802\u001b[0m                 \u001b[0mindexer\u001b[0m \u001b[0;34m=\u001b[0m \u001b[0;34m[\u001b[0m\u001b[0mindexer\u001b[0m\u001b[0;34m]\u001b[0m\u001b[0;34m\u001b[0m\u001b[0;34m\u001b[0m\u001b[0m\n",
      "\u001b[0;32m~/opt/anaconda3/lib/python3.7/site-packages/pandas/core/indexes/base.py\u001b[0m in \u001b[0;36mget_loc\u001b[0;34m(self, key, method, tolerance)\u001b[0m\n\u001b[1;32m   2646\u001b[0m                 \u001b[0;32mreturn\u001b[0m \u001b[0mself\u001b[0m\u001b[0;34m.\u001b[0m\u001b[0m_engine\u001b[0m\u001b[0;34m.\u001b[0m\u001b[0mget_loc\u001b[0m\u001b[0;34m(\u001b[0m\u001b[0mkey\u001b[0m\u001b[0;34m)\u001b[0m\u001b[0;34m\u001b[0m\u001b[0;34m\u001b[0m\u001b[0m\n\u001b[1;32m   2647\u001b[0m             \u001b[0;32mexcept\u001b[0m \u001b[0mKeyError\u001b[0m\u001b[0;34m:\u001b[0m\u001b[0;34m\u001b[0m\u001b[0;34m\u001b[0m\u001b[0m\n\u001b[0;32m-> 2648\u001b[0;31m                 \u001b[0;32mreturn\u001b[0m \u001b[0mself\u001b[0m\u001b[0;34m.\u001b[0m\u001b[0m_engine\u001b[0m\u001b[0;34m.\u001b[0m\u001b[0mget_loc\u001b[0m\u001b[0;34m(\u001b[0m\u001b[0mself\u001b[0m\u001b[0;34m.\u001b[0m\u001b[0m_maybe_cast_indexer\u001b[0m\u001b[0;34m(\u001b[0m\u001b[0mkey\u001b[0m\u001b[0;34m)\u001b[0m\u001b[0;34m)\u001b[0m\u001b[0;34m\u001b[0m\u001b[0;34m\u001b[0m\u001b[0m\n\u001b[0m\u001b[1;32m   2649\u001b[0m         \u001b[0mindexer\u001b[0m \u001b[0;34m=\u001b[0m \u001b[0mself\u001b[0m\u001b[0;34m.\u001b[0m\u001b[0mget_indexer\u001b[0m\u001b[0;34m(\u001b[0m\u001b[0;34m[\u001b[0m\u001b[0mkey\u001b[0m\u001b[0;34m]\u001b[0m\u001b[0;34m,\u001b[0m \u001b[0mmethod\u001b[0m\u001b[0;34m=\u001b[0m\u001b[0mmethod\u001b[0m\u001b[0;34m,\u001b[0m \u001b[0mtolerance\u001b[0m\u001b[0;34m=\u001b[0m\u001b[0mtolerance\u001b[0m\u001b[0;34m)\u001b[0m\u001b[0;34m\u001b[0m\u001b[0;34m\u001b[0m\u001b[0m\n\u001b[1;32m   2650\u001b[0m         \u001b[0;32mif\u001b[0m \u001b[0mindexer\u001b[0m\u001b[0;34m.\u001b[0m\u001b[0mndim\u001b[0m \u001b[0;34m>\u001b[0m \u001b[0;36m1\u001b[0m \u001b[0;32mor\u001b[0m \u001b[0mindexer\u001b[0m\u001b[0;34m.\u001b[0m\u001b[0msize\u001b[0m \u001b[0;34m>\u001b[0m \u001b[0;36m1\u001b[0m\u001b[0;34m:\u001b[0m\u001b[0;34m\u001b[0m\u001b[0;34m\u001b[0m\u001b[0m\n",
      "\u001b[0;32mpandas/_libs/index.pyx\u001b[0m in \u001b[0;36mpandas._libs.index.IndexEngine.get_loc\u001b[0;34m()\u001b[0m\n",
      "\u001b[0;32mpandas/_libs/index.pyx\u001b[0m in \u001b[0;36mpandas._libs.index.IndexEngine.get_loc\u001b[0;34m()\u001b[0m\n",
      "\u001b[0;32mpandas/_libs/hashtable_class_helper.pxi\u001b[0m in \u001b[0;36mpandas._libs.hashtable.PyObjectHashTable.get_item\u001b[0;34m()\u001b[0m\n",
      "\u001b[0;32mpandas/_libs/hashtable_class_helper.pxi\u001b[0m in \u001b[0;36mpandas._libs.hashtable.PyObjectHashTable.get_item\u001b[0;34m()\u001b[0m\n",
      "\u001b[0;31mKeyError\u001b[0m: 'DAILY_ENTRIES'"
     ]
    }
   ],
   "source": [
    "# Create turnstile unique ID\n",
    "turnstile = \"1\"\n",
    "\n",
    "dates = daily_counts_df[daily_counts_df[\"TURNSTILE\"] == turnstile][\"DATE\"]\n",
    "counts = daily_counts_df[daily_counts_df[\"TURNSTILE\"] == turnstile][\"DAILY_ENTRIES\"]\n",
    "\n",
    "fig, ax = plt.subplots(figsize=(10,3))\n",
    "ax.plot(dates, counts)\n",
    "ax.set_title(f\"Turnstile ({turnstile}) Daily Entries\", weight=\"bold\")\n",
    "ax.xaxis.set_major_formatter(mdates.DateFormatter(\"%m/%d\"))\n",
    "ax.xaxis.set_major_locator(mdates.DayLocator(interval = 3))\n",
    "ax.set_ylabel(\"Daily Entries\", labelpad=8);"
   ]
  },
  {
   "cell_type": "code",
   "execution_count": null,
   "metadata": {},
   "outputs": [],
   "source": [
    "june_turnstiles['']"
   ]
  },
  {
   "cell_type": "code",
   "execution_count": null,
   "metadata": {},
   "outputs": [],
   "source": [
    "plt.plot(data_x, data_list)"
   ]
  },
  {
   "cell_type": "markdown",
   "metadata": {},
   "source": [
    "### Notitas"
   ]
  },
  {
   "cell_type": "markdown",
   "metadata": {},
   "source": [
    "grouping by stations issues\n",
    "time series chunk into hours \n",
    "rush hour time frames\n",
    "\n",
    "\n",
    "would need explanation for why to divide by 4\n",
    "interval starts depend on line & units\n",
    "all stations on hour clock\n",
    "take into account the dates\n",
    "focus on most popular stations"
   ]
  },
  {
   "cell_type": "code",
   "execution_count": null,
   "metadata": {},
   "outputs": [],
   "source": [
    "# def get_daily_counts(row, max_counter):\n",
    "#     \"\"\"\n",
    "#     This function is used for maxFoottraffic.\n",
    "#     \"\"\"\n",
    "#     counter = row[\"FOOTTRAFFIC\"] - row[\"PREV_FOOTTRAFFIC\"]\n",
    "#     if row < 0:\n",
    "#         # Maybe counter is reversed?\n",
    "#         row =- row\n",
    "        \n",
    "#     if row > max_counter:\n",
    "#         # Maybe counter was reset to 0? \n",
    "#         row = min(row[\"FOOTTRAFFIC\"], row[\"PREV_FOOTTRAFFIC\"])\n",
    "        \n",
    "#     if row > max_counter:\n",
    "#         # Check it again to make sure we're not still giving a counter that's too big\n",
    "#         return 0\n",
    "#     return row\n",
    "\n",
    "# def maxFoottraffic(dataframe):\n",
    "#     \"\"\"\n",
    "#     This function calls get_daily_counts \n",
    "#     so that function must be entered prior.\n",
    "#     The purpose of this function is check the \n",
    "#     top 10 highly trafficked stations,\n",
    "#     depending on what dataframe is entered \n",
    "#     (June, July, December, etc.)\n",
    "#     \"\"\"\n",
    "#     daily_counts_df = dataframe.groupby([\"TURNSTILE\",\"DATE\"], as_index=False)[\"FOOTTRAFFIC\"].first()\n",
    "\n",
    "#     daily_counts_df[[\"PREV_DATE\", \"PREV_FOOTTRAFFIC\"]] = (daily_counts_df\n",
    "#                                                        .groupby([\"TURNSTILE\"])[\"DATE\", \"FOOTTRAFFIC\"]\n",
    "#                                                        .apply(lambda grp: grp.shift(1)))\n",
    "\n",
    "#     daily_counts_df.dropna(subset=[\"PREV_DATE\"], inplace=True)\n",
    "    \n",
    "#     daily_counts_df[\"DAILY_FOOTTRAFFIC\"] = daily_counts_df.apply(get_daily_counts, axis=1, max_counter=100000)\n",
    "  \n",
    "#     station_counts_df = daily_counts_df.groupby([\"STATION\"], as_index=False)[\"DAILY_FOOTTRAFFIC\"].sum()\n",
    "    \n",
    "#     return station_counts_df.sort_values('DAILY_FOOTTRAFFIC', ascending=False)"
   ]
  },
  {
   "cell_type": "code",
   "execution_count": null,
   "metadata": {},
   "outputs": [],
   "source": [
    "def get_daily_counts(row, max_counter):\n",
    "    \"\"\"\n",
    "    This function is used for maxFoottraffic.\n",
    "    \"\"\"\n",
    "    counter = row[\"FOOTTRAFFIC\"] - row[\"PREV_FOOTTRAFFIC\"]\n",
    "    if counter < 0:\n",
    "        # Maybe counter is reversed?\n",
    "        counter = -counter\n",
    "    if counter > max_counter:\n",
    "        # Maybe counter was reset to 0? \n",
    "        counter = min(row[\"FOOTTRAFFIC\"], row[\"PREV_FOOTTRAFFIC\"])\n",
    "    if counter > max_counter:\n",
    "        # Check it again to make sure we're not still giving a counter that's too big\n",
    "        return 0\n",
    "    return counter\n",
    "\n",
    "def maxFoottraffic(dataframe):\n",
    "    \"\"\"\n",
    "    This function calls get_daily_counts so that function must be entered prior.\n",
    "    The purpose of this function is check the top 10 highly trafficked stations,\n",
    "    depending on what dataframe is entered (June, July, December, etc.)\n",
    "    \"\"\"\n",
    "    daily_counts_df = dataframe.groupby([\"TURNSTILE\",\"DATE\"], as_index=False)[\"FOOTTRAFFIC\"].first()\n",
    "    daily_counts_df[[\"PREV_DATE\", \"PREV_FOOTTRAFFIC\"]] = (daily_counts_df\n",
    "                                                       .groupby([\"TURNSTILE\"])[\"DATE\", \"FOOTTRAFFIC\"]\n",
    "                                                       .apply(lambda grp: grp.shift(1)))\n",
    "    daily_counts_df.dropna(subset=[\"PREV_DATE\"], inplace=True)\n",
    "    \n",
    "    daily_counts_df[\"DAILY_FOOTTRAFFIC\"] = daily_counts_df.apply(get_daily_counts, axis=1, max_counter=100000)\n",
    "  \n",
    "    station_counts_df = daily_counts_df.groupby([\"STATION\"], as_index=False)[\"DAILY_FOOTTRAFFIC\"].sum()\n",
    "    \n",
    "    return station_counts_df.sort_values('DAILY_FOOTTRAFFIC', ascending=False).head(10)\n"
   ]
  },
  {
   "cell_type": "code",
   "execution_count": null,
   "metadata": {},
   "outputs": [],
   "source": [
    "# station_counts_df = daily_counts_df.groupby([\"STATION\", \"DATE\"], as_index=False)[\"DAILY_ENTRIES\"].sum()\n",
    "# station_counts_df.head()"
   ]
  },
  {
   "cell_type": "code",
   "execution_count": null,
   "metadata": {},
   "outputs": [],
   "source": [
    "top5 = june_turnstiles[(june_turnstiles['STATION']==value) | (df['columns2'] == 'b') | (df['column3'] == 'c')]"
   ]
  }
 ],
 "metadata": {
  "kernelspec": {
   "display_name": "Python 3",
   "language": "python",
   "name": "python3"
  },
  "language_info": {
   "codemirror_mode": {
    "name": "ipython",
    "version": 3
   },
   "file_extension": ".py",
   "mimetype": "text/x-python",
   "name": "python",
   "nbconvert_exporter": "python",
   "pygments_lexer": "ipython3",
   "version": "3.7.7"
  }
 },
 "nbformat": 4,
 "nbformat_minor": 4
}
