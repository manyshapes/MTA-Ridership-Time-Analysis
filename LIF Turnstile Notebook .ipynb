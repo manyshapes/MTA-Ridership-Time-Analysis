{
 "cells": [
  {
   "cell_type": "markdown",
   "metadata": {},
   "source": [
    "# NYC MTA\n",
    "\n",
    "This notebook will explore patterns in traffic for the NYC MTA system. Notably these findings will be used to determine measures for spreading out peak traffic time. Visualizations created are to aid the viewer in understanding what lulls may be opportune times for taking on some of peak transit traffic."
   ]
  },
  {
   "cell_type": "code",
   "execution_count": 194,
   "metadata": {},
   "outputs": [],
   "source": [
    "import pandas as pd\n",
    "from FixWith import likeNew\n",
    "from FixWith import combinedTraffic\n",
    "from FixWith import trafficFix"
   ]
  },
  {
   "cell_type": "markdown",
   "metadata": {},
   "source": [
    "## Getting Data"
   ]
  },
  {
   "cell_type": "markdown",
   "metadata": {},
   "source": [
    "Getting data online will have to be performed first if not already saved on desktop. For a one-time use online data is a handy retrieval method. But for multiple notebook sessions, it's most seamless to save the data locally after retrieval. Accessing local data can then be the only method of importing."
   ]
  },
  {
   "cell_type": "code",
   "execution_count": 181,
   "metadata": {},
   "outputs": [],
   "source": [
    "# Source: http://web.mta.info/developers/turnstile.html\n",
    "\n",
    "def get_data_online(week_nums):\n",
    "    url = \"http://web.mta.info/developers/data/nyct/turnstile/turnstile_{}.txt\"\n",
    "    dfs = []\n",
    "    for week_num in week_nums:\n",
    "        file_url = url.format(week_num)\n",
    "        dfs.append(pd.read_csv(file_url))\n",
    "    return pd.concat(dfs)\n",
    "\n",
    "def get_csv_data(ourCSV):\n",
    "    df = pd.read_csv(ourCSV)\n",
    "    del df[\"Unnamed: 0\"]\n",
    "    return df"
   ]
  },
  {
   "cell_type": "markdown",
   "metadata": {},
   "source": [
    "The week numbers for retrieving data online follow the format year, month, day, with each week number being on a saturday.\n",
    "\n",
    "Time Frames (3 wks each) of interest for the project:\n",
    "1. Early to Mid December 2019\n",
    "2. Mid to Late March 2020\n",
    "3. Mid to Late June 2020"
   ]
  },
  {
   "cell_type": "markdown",
   "metadata": {},
   "source": [
    "The code for getting data from online is as follows.\n",
    "```\n",
    "week_nums = [200613, 200620, 200627]\n",
    "june_turnstiles = get_data_online(week_nums)\n",
    "\n",
    "week_nums = [200328, 200321, 200314]\n",
    "march_turnstiles = get_data_online(week_nums)\n",
    "\n",
    "week_nums = [191207, 191214, 191221]\n",
    "december_turnstiles = get_data_online(week_nums)\n",
    "```"
   ]
  },
  {
   "cell_type": "markdown",
   "metadata": {},
   "source": [
    "Once retrieved, this data can push it into .csvs\n",
    "\n",
    "```\n",
    "# december_turnstiles.to_csv('december_turnstiles.csv')\n",
    "# march_turnstiles.to_csv('march_turnstiles.csv')\n",
    "# june_turnstiles.to_csv('june_turnstiles.csv')\n",
    "```"
   ]
  },
  {
   "cell_type": "code",
   "execution_count": 182,
   "metadata": {},
   "outputs": [],
   "source": [
    "december_turnstiles = get_csv_data('december_turnstiles.csv')\n",
    "march_turnstiles = get_csv_data('march_turnstiles.csv')\n",
    "june_turnstiles = get_csv_data('june_turnstiles.csv')"
   ]
  },
  {
   "cell_type": "markdown",
   "metadata": {},
   "source": [
    "## Cleaning Up "
   ]
  },
  {
   "cell_type": "markdown",
   "metadata": {},
   "source": [
    " The data's timestamp will need to be combined into one column.\n",
    " Column names should also be stripped of any white space."
   ]
  },
  {
   "cell_type": "code",
   "execution_count": 190,
   "metadata": {},
   "outputs": [],
   "source": [
    "june_turnstiles = betterColumns(june_turnstiles)"
   ]
  },
  {
   "cell_type": "markdown",
   "metadata": {},
   "source": [
    "##### Making a Turnstiles Column"
   ]
  },
  {
   "cell_type": "markdown",
   "metadata": {},
   "source": [
    "Although the data is available to discern turnstiles within C/A, UNIT, SCP, & Station, a turnstile column has not yet been created. Together each of these features are "
   ]
  },
  {
   "cell_type": "code",
   "execution_count": 191,
   "metadata": {},
   "outputs": [],
   "source": [
    "def turnstileColumn(dataframe):\n",
    "    '''\n",
    "    Takes an MTA dataframe & creates a new column\n",
    "    Where there's an index number for each Turn Stile in frame.\n",
    "    '''\n",
    "    eachTS = dataframe.groupby([\"C/A\", \"UNIT\", \"SCP\", \"STATION\"])[['ENTRIES']].sum()\n",
    "    howMany = eachTS.shape[0]\n",
    "    eachTS['TURNSTILE'] = range(1,(howMany + 1))\n",
    "    del eachTS['ENTRIES']\n",
    "    dataframe = pd.merge(dataframe, eachTS,  how='left',\n",
    "                         left_on=['C/A','UNIT','SCP', 'STATION'],\n",
    "                         right_on = ['C/A','UNIT','SCP', 'STATION'])    \n",
    "    return dataframe"
   ]
  },
  {
   "cell_type": "code",
   "execution_count": 192,
   "metadata": {},
   "outputs": [
    {
     "data": {
      "text/html": [
       "<div>\n",
       "<style scoped>\n",
       "    .dataframe tbody tr th:only-of-type {\n",
       "        vertical-align: middle;\n",
       "    }\n",
       "\n",
       "    .dataframe tbody tr th {\n",
       "        vertical-align: top;\n",
       "    }\n",
       "\n",
       "    .dataframe thead th {\n",
       "        text-align: right;\n",
       "    }\n",
       "</style>\n",
       "<table border=\"1\" class=\"dataframe\">\n",
       "  <thead>\n",
       "    <tr style=\"text-align: right;\">\n",
       "      <th></th>\n",
       "      <th>C/A</th>\n",
       "      <th>UNIT</th>\n",
       "      <th>SCP</th>\n",
       "      <th>STATION</th>\n",
       "      <th>LINENAME</th>\n",
       "      <th>DIVISION</th>\n",
       "      <th>DATE</th>\n",
       "      <th>TIME</th>\n",
       "      <th>DESC</th>\n",
       "      <th>ENTRIES</th>\n",
       "      <th>EXITS</th>\n",
       "      <th>TIMESTAMP</th>\n",
       "      <th>FOOTTRAFFIC</th>\n",
       "      <th>TURNSTILE_x</th>\n",
       "      <th>TURNSTILE_y</th>\n",
       "      <th>TURNSTILE</th>\n",
       "    </tr>\n",
       "  </thead>\n",
       "  <tbody>\n",
       "    <tr>\n",
       "      <th>0</th>\n",
       "      <td>A002</td>\n",
       "      <td>R051</td>\n",
       "      <td>02-00-00</td>\n",
       "      <td>59 ST</td>\n",
       "      <td>NQR456W</td>\n",
       "      <td>BMT</td>\n",
       "      <td>06/20/2020</td>\n",
       "      <td>00:00:00</td>\n",
       "      <td>REGULAR</td>\n",
       "      <td>7424218</td>\n",
       "      <td>2522558</td>\n",
       "      <td>2020-06-20 00:00:00</td>\n",
       "      <td>9946776</td>\n",
       "      <td>1</td>\n",
       "      <td>1</td>\n",
       "      <td>1</td>\n",
       "    </tr>\n",
       "    <tr>\n",
       "      <th>1</th>\n",
       "      <td>A002</td>\n",
       "      <td>R051</td>\n",
       "      <td>02-00-00</td>\n",
       "      <td>59 ST</td>\n",
       "      <td>NQR456W</td>\n",
       "      <td>BMT</td>\n",
       "      <td>06/20/2020</td>\n",
       "      <td>04:00:00</td>\n",
       "      <td>REGULAR</td>\n",
       "      <td>7424220</td>\n",
       "      <td>2522559</td>\n",
       "      <td>2020-06-20 04:00:00</td>\n",
       "      <td>9946779</td>\n",
       "      <td>1</td>\n",
       "      <td>1</td>\n",
       "      <td>1</td>\n",
       "    </tr>\n",
       "  </tbody>\n",
       "</table>\n",
       "</div>"
      ],
      "text/plain": [
       "    C/A  UNIT       SCP STATION LINENAME DIVISION        DATE      TIME  \\\n",
       "0  A002  R051  02-00-00   59 ST  NQR456W      BMT  06/20/2020  00:00:00   \n",
       "1  A002  R051  02-00-00   59 ST  NQR456W      BMT  06/20/2020  04:00:00   \n",
       "\n",
       "      DESC  ENTRIES    EXITS           TIMESTAMP  FOOTTRAFFIC  TURNSTILE_x  \\\n",
       "0  REGULAR  7424218  2522558 2020-06-20 00:00:00      9946776            1   \n",
       "1  REGULAR  7424220  2522559 2020-06-20 04:00:00      9946779            1   \n",
       "\n",
       "   TURNSTILE_y  TURNSTILE  \n",
       "0            1          1  \n",
       "1            1          1  "
      ]
     },
     "execution_count": 192,
     "metadata": {},
     "output_type": "execute_result"
    }
   ],
   "source": [
    "june_turnstiles = turnstileColumn(june_turnstiles)\n",
    "june_turnstiles.head(2)"
   ]
  },
  {
   "cell_type": "markdown",
   "metadata": {},
   "source": [
    "#### Updating Foot Traffic Column"
   ]
  },
  {
   "cell_type": "code",
   "execution_count": 193,
   "metadata": {},
   "outputs": [
    {
     "data": {
      "text/html": [
       "<div>\n",
       "<style scoped>\n",
       "    .dataframe tbody tr th:only-of-type {\n",
       "        vertical-align: middle;\n",
       "    }\n",
       "\n",
       "    .dataframe tbody tr th {\n",
       "        vertical-align: top;\n",
       "    }\n",
       "\n",
       "    .dataframe thead th {\n",
       "        text-align: right;\n",
       "    }\n",
       "</style>\n",
       "<table border=\"1\" class=\"dataframe\">\n",
       "  <thead>\n",
       "    <tr style=\"text-align: right;\">\n",
       "      <th></th>\n",
       "      <th>C/A</th>\n",
       "      <th>UNIT</th>\n",
       "      <th>SCP</th>\n",
       "      <th>STATION</th>\n",
       "      <th>LINENAME</th>\n",
       "      <th>DIVISION</th>\n",
       "      <th>DATE</th>\n",
       "      <th>TIME</th>\n",
       "      <th>DESC</th>\n",
       "      <th>ENTRIES</th>\n",
       "      <th>EXITS</th>\n",
       "      <th>TIMESTAMP</th>\n",
       "      <th>FOOTTRAFFIC</th>\n",
       "      <th>TURNSTILE_x</th>\n",
       "      <th>TURNSTILE_y</th>\n",
       "      <th>TURNSTILE</th>\n",
       "    </tr>\n",
       "  </thead>\n",
       "  <tbody>\n",
       "    <tr>\n",
       "      <th>0</th>\n",
       "      <td>A002</td>\n",
       "      <td>R051</td>\n",
       "      <td>02-00-00</td>\n",
       "      <td>59 ST</td>\n",
       "      <td>NQR456W</td>\n",
       "      <td>BMT</td>\n",
       "      <td>06/20/2020</td>\n",
       "      <td>00:00:00</td>\n",
       "      <td>REGULAR</td>\n",
       "      <td>7424218</td>\n",
       "      <td>2522558</td>\n",
       "      <td>2020-06-20 00:00:00</td>\n",
       "      <td>3</td>\n",
       "      <td>1</td>\n",
       "      <td>1</td>\n",
       "      <td>1</td>\n",
       "    </tr>\n",
       "    <tr>\n",
       "      <th>1</th>\n",
       "      <td>A002</td>\n",
       "      <td>R051</td>\n",
       "      <td>02-00-00</td>\n",
       "      <td>59 ST</td>\n",
       "      <td>NQR456W</td>\n",
       "      <td>BMT</td>\n",
       "      <td>06/20/2020</td>\n",
       "      <td>04:00:00</td>\n",
       "      <td>REGULAR</td>\n",
       "      <td>7424220</td>\n",
       "      <td>2522559</td>\n",
       "      <td>2020-06-20 04:00:00</td>\n",
       "      <td>3</td>\n",
       "      <td>1</td>\n",
       "      <td>1</td>\n",
       "      <td>1</td>\n",
       "    </tr>\n",
       "  </tbody>\n",
       "</table>\n",
       "</div>"
      ],
      "text/plain": [
       "    C/A  UNIT       SCP STATION LINENAME DIVISION        DATE      TIME  \\\n",
       "0  A002  R051  02-00-00   59 ST  NQR456W      BMT  06/20/2020  00:00:00   \n",
       "1  A002  R051  02-00-00   59 ST  NQR456W      BMT  06/20/2020  04:00:00   \n",
       "\n",
       "      DESC  ENTRIES    EXITS           TIMESTAMP  FOOTTRAFFIC  TURNSTILE_x  \\\n",
       "0  REGULAR  7424218  2522558 2020-06-20 00:00:00            3            1   \n",
       "1  REGULAR  7424220  2522559 2020-06-20 04:00:00            3            1   \n",
       "\n",
       "   TURNSTILE_y  TURNSTILE  \n",
       "0            1          1  \n",
       "1            1          1  "
      ]
     },
     "execution_count": 193,
     "metadata": {},
     "output_type": "execute_result"
    }
   ],
   "source": [
    "june_turnstiles = trafficFix(june_turnstiles)\n",
    "june_turnstiles.head(2)"
   ]
  },
  {
   "cell_type": "markdown",
   "metadata": {},
   "source": [
    "### General Data Infos"
   ]
  },
  {
   "cell_type": "code",
   "execution_count": 178,
   "metadata": {},
   "outputs": [
    {
     "name": "stdout",
     "output_type": "stream",
     "text": [
      "(620072, 13) \n",
      "\n",
      "Columns:\n",
      " Index(['C/A', 'UNIT', 'SCP', 'STATION', 'LINENAME', 'DIVISION', 'DATE', 'TIME',\n",
      "       'DESC', 'ENTRIES', 'EXITS', 'TIMESTAMP', 'FOOTTRAFFIC'],\n",
      "      dtype='object')\n"
     ]
    },
    {
     "data": {
      "text/html": [
       "<div>\n",
       "<style scoped>\n",
       "    .dataframe tbody tr th:only-of-type {\n",
       "        vertical-align: middle;\n",
       "    }\n",
       "\n",
       "    .dataframe tbody tr th {\n",
       "        vertical-align: top;\n",
       "    }\n",
       "\n",
       "    .dataframe thead th {\n",
       "        text-align: right;\n",
       "    }\n",
       "</style>\n",
       "<table border=\"1\" class=\"dataframe\">\n",
       "  <thead>\n",
       "    <tr style=\"text-align: right;\">\n",
       "      <th></th>\n",
       "      <th>C/A</th>\n",
       "      <th>UNIT</th>\n",
       "      <th>SCP</th>\n",
       "      <th>STATION</th>\n",
       "      <th>LINENAME</th>\n",
       "      <th>DIVISION</th>\n",
       "      <th>DATE</th>\n",
       "      <th>TIME</th>\n",
       "      <th>DESC</th>\n",
       "      <th>ENTRIES</th>\n",
       "      <th>EXITS</th>\n",
       "      <th>TIMESTAMP</th>\n",
       "      <th>FOOTTRAFFIC</th>\n",
       "    </tr>\n",
       "  </thead>\n",
       "  <tbody>\n",
       "    <tr>\n",
       "      <th>0</th>\n",
       "      <td>A002</td>\n",
       "      <td>R051</td>\n",
       "      <td>02-00-00</td>\n",
       "      <td>59 ST</td>\n",
       "      <td>NQR456W</td>\n",
       "      <td>BMT</td>\n",
       "      <td>06/20/2020</td>\n",
       "      <td>00:00:00</td>\n",
       "      <td>REGULAR</td>\n",
       "      <td>7424218</td>\n",
       "      <td>2522558</td>\n",
       "      <td>2020-06-20 00:00:00</td>\n",
       "      <td>9946776</td>\n",
       "    </tr>\n",
       "    <tr>\n",
       "      <th>1</th>\n",
       "      <td>A002</td>\n",
       "      <td>R051</td>\n",
       "      <td>02-00-00</td>\n",
       "      <td>59 ST</td>\n",
       "      <td>NQR456W</td>\n",
       "      <td>BMT</td>\n",
       "      <td>06/20/2020</td>\n",
       "      <td>04:00:00</td>\n",
       "      <td>REGULAR</td>\n",
       "      <td>7424220</td>\n",
       "      <td>2522559</td>\n",
       "      <td>2020-06-20 04:00:00</td>\n",
       "      <td>9946779</td>\n",
       "    </tr>\n",
       "  </tbody>\n",
       "</table>\n",
       "</div>"
      ],
      "text/plain": [
       "    C/A  UNIT       SCP STATION LINENAME DIVISION        DATE      TIME  \\\n",
       "0  A002  R051  02-00-00   59 ST  NQR456W      BMT  06/20/2020  00:00:00   \n",
       "1  A002  R051  02-00-00   59 ST  NQR456W      BMT  06/20/2020  04:00:00   \n",
       "\n",
       "      DESC  ENTRIES    EXITS           TIMESTAMP  FOOTTRAFFIC  \n",
       "0  REGULAR  7424218  2522558 2020-06-20 00:00:00      9946776  \n",
       "1  REGULAR  7424220  2522559 2020-06-20 04:00:00      9946779  "
      ]
     },
     "execution_count": 178,
     "metadata": {},
     "output_type": "execute_result"
    }
   ],
   "source": [
    "print(june_turnstiles.shape, '\\n')\n",
    "print('Columns:\\n' , june_turnstiles.columns)\n",
    "june_turnstiles.head(2)"
   ]
  },
  {
   "cell_type": "markdown",
   "metadata": {},
   "source": [
    "## Plotting Values\n",
    "- average for each hour ?\n",
    "- what stations are used at what time ?\n"
   ]
  },
  {
   "cell_type": "code",
   "execution_count": 179,
   "metadata": {},
   "outputs": [],
   "source": [
    "import matplotlib.pyplot as plt\n",
    "import numpy as np\n",
    "%matplotlib inline "
   ]
  },
  {
   "cell_type": "code",
   "execution_count": null,
   "metadata": {},
   "outputs": [],
   "source": [
    "june_turnstiles['']"
   ]
  },
  {
   "cell_type": "code",
   "execution_count": null,
   "metadata": {},
   "outputs": [],
   "source": [
    "plt.plot(data_x, data_list)"
   ]
  },
  {
   "cell_type": "markdown",
   "metadata": {},
   "source": [
    "### Notitas"
   ]
  },
  {
   "cell_type": "markdown",
   "metadata": {},
   "source": [
    "grouping by stations issues\n",
    "time series chunk into hours \n",
    "rush hour time frames\n",
    "\n",
    "\n",
    "would need explanation for why to divide by 4\n",
    "interval starts depend on line & units\n",
    "all stations on hour clock\n",
    "take into account the dates\n",
    "focus on most popular stations"
   ]
  },
  {
   "cell_type": "code",
   "execution_count": null,
   "metadata": {},
   "outputs": [],
   "source": []
  }
 ],
 "metadata": {
  "kernelspec": {
   "display_name": "Python 3",
   "language": "python",
   "name": "python3"
  },
  "language_info": {
   "codemirror_mode": {
    "name": "ipython",
    "version": 3
   },
   "file_extension": ".py",
   "mimetype": "text/x-python",
   "name": "python",
   "nbconvert_exporter": "python",
   "pygments_lexer": "ipython3",
   "version": "3.7.7"
  }
 },
 "nbformat": 4,
 "nbformat_minor": 4
}
