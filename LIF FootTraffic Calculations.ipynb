{
 "cells": [
  {
   "cell_type": "code",
   "execution_count": 1,
   "metadata": {},
   "outputs": [],
   "source": [
    "%matplotlib inline\n",
    "import matplotlib.pyplot as plt\n",
    "import matplotlib.dates as mdates\n",
    "import numpy as np\n",
    "import pandas as pd\n",
    "import datetime\n",
    "import seaborn as sns"
   ]
  },
  {
   "cell_type": "markdown",
   "metadata": {},
   "source": [
    "## Data Intake"
   ]
  },
  {
   "cell_type": "code",
   "execution_count": 29,
   "metadata": {},
   "outputs": [],
   "source": [
    "# Import local CSV files and change name of EXITS column\n",
    "\n",
    "df_dec19 = pd.read_csv('v1december_turnstiles.csv', index_col = 0)\n",
    "df_dec19 = df_dec19.rename(columns={'EXITS                                                               ':'EXITS'})\n",
    "df_mar20 = pd.read_csv('v1march_turnstiles.csv', index_col = 0)\n",
    "df_mar20 = df_mar20.rename(columns={'EXITS                                                               ':'EXITS'})\n",
    "df_june20 = pd.read_csv('v1june_turnstiles.csv', index_col = 0)\n",
    "df_june20 = df_june20.rename(columns={'EXITS                                                               ':'EXITS'})"
   ]
  },
  {
   "cell_type": "code",
   "execution_count": 30,
   "metadata": {},
   "outputs": [],
   "source": [
    "new_time = df_dec19.TIME.map(lambda x: str(x)[:-6])\n",
    "df_dec19['ABBREV_TIME'] = pd.to_numeric(new_time)\n",
    "\n",
    "new_time = df_mar20.TIME.map(lambda x: str(x)[:-6])\n",
    "df_mar20['ABBREV_TIME'] = pd.to_numeric(new_time)\n",
    "\n",
    "new_time = df_june20.TIME.map(lambda x: str(x)[:-6])\n",
    "df_june20['ABBREV_TIME'] = pd.to_numeric(new_time)"
   ]
  },
  {
   "cell_type": "code",
   "execution_count": 31,
   "metadata": {},
   "outputs": [],
   "source": [
    "#df_dec19_dailyfoottraffic.groupby(['STATION']).DIFF_FOOTTRAFFIC.agg(['mean','sum']).sort_values('sum', ascending = False).head(10)"
   ]
  },
  {
   "cell_type": "code",
   "execution_count": null,
   "metadata": {},
   "outputs": [],
   "source": [
    "def twoPennStation(dataframe):\n",
    "    dataframe.loc[(dataframe['STATION'] == '34 ST-PENN STA') & (dataframe['LINENAME'] == '123'), 'STATION'] = '34 ST-PENN EXPRESS'\n",
    "    # This line will make LINENAME 123ACE categorized as LINENAME ACE\n",
    "    dataframe.loc[(dataframe['STATION'] == '34 ST-PENN STA') & (dataframe['LINENAME'] == '123ACE'), 'STATION'] = '34 ST-PENN EXPRESS'\n",
    "    \n",
    "    dataframe.loc[(dataframe['STATION'] == '34 ST-PENN STA') & (dataframe['LINENAME'] == 'ACE'), 'STATION'] = '34 ST-PENN LOCAL'\n",
    "    \n",
    "    return dataframe\n"
   ]
  },
  {
   "cell_type": "code",
   "execution_count": null,
   "metadata": {},
   "outputs": [],
   "source": [
    "df_dec19 = twoPennStation(df_dec19)\n",
    "df_mar20 = twoPennStation(mar_dec20)\n",
    "df_jun20 = twoPennStation(june_dec20)"
   ]
  },
  {
   "cell_type": "code",
   "execution_count": 32,
   "metadata": {},
   "outputs": [],
   "source": [
    "def hr4FootTraffic(dataframe):\n",
    "    \"\"\"\n",
    "    This function calculated foot traffic for every 4 hour interval.\n",
    "    It groups the data by TURNSTILE (\"C/A\", \"UNIT\", \"SCP\",\"STATION\"), DATE, TIME, and TIMESTAMP,\n",
    "    then aggregates it to show the sum (renamed as TOTAL_FOOTTRAFFIC).\n",
    "    \n",
    "    The last line for \"station_counts_df\" is used to calculate the max foot traffic by\n",
    "    taking the sum of DEC19, MAR20, and JUNE20.\n",
    "    \"\"\"\n",
    "    dataframe['TIMESTAMP'] = pd.to_datetime(dataframe['DATE'] + ' ' + dataframe['TIME'])\n",
    "    dataframe['FOOTTRAFFIC'] = dataframe['ENTRIES'] + dataframe['EXITS']\n",
    "    \n",
    "    # This aggregates FOOTTRAFFIC by STATION & TIME, it also resets the indez\n",
    "    hour4_counts_df = dataframe.groupby([\"C/A\", \"UNIT\", \"SCP\",\"STATION\",\"DATE\",\"TIME\",\"TIMESTAMP\",'ABBREV_TIME']).FOOTTRAFFIC.agg(['sum', 'count']).reset_index()\n",
    "\n",
    "    # This creates a new column of DIFF_FOOTRAFFIC by taking the difference in 'sum'\n",
    "    hour4_counts_df['DIFF_FOOTTRAFFIC'] = hour4_counts_df['sum'].diff()\n",
    "\n",
    "    # For practical purposes, we will rename 'sum' to TOTAL_FOOTTRAFFIC\n",
    "    hour4_counts_df = hour4_counts_df.rename(columns={'sum':'TOTAL_FOOTTRAFFIC'})\n",
    "\n",
    "    return hour4_counts_df"
   ]
  },
  {
   "cell_type": "code",
   "execution_count": 33,
   "metadata": {},
   "outputs": [],
   "source": [
    "df_dec19_4hrfoottraffic = hr4FootTraffic(df_dec19)\n",
    "dec_n_of_rows = df_dec19_4hrfoottraffic.shape[0]\n",
    "\n",
    "df_mar20_4hrfoottraffic = hr4FootTraffic(df_mar20)\n",
    "mar_n_of_rows = df_mar20_4hrfoottraffic.shape[0]\n",
    "\n",
    "df_june20_4hrfoottraffic = hr4FootTraffic(df_june20)\n",
    "june_n_of_rows = df_june20_4hrfoottraffic.shape[0]"
   ]
  },
  {
   "cell_type": "code",
   "execution_count": 34,
   "metadata": {},
   "outputs": [],
   "source": [
    "def cleanTraffic(dataframe):\n",
    "    \n",
    "    #All values below 0 will now also be Not a Number\n",
    "    dataframe[dataframe['DIFF_FOOTTRAFFIC'] < 0] = np.nan\n",
    "    \n",
    "    #Turnstile averages will saved as DIFF_FOOTTRAFFIC aggregate\n",
    "    grouped = dataframe.groupby(['C/A', 'UNIT', 'SCP','STATION'])['DIFF_FOOTTRAFFIC'].median()\n",
    "    \n",
    "    #Then merged to the original dataframe, creating an extra DIFF_FOOTTRAFFIC\n",
    "    #one will be named DIFF_FOOTTRAFFIC_x , the other DIFF_FOOTTRAFFIC_y\n",
    "    dataframe = pd.merge(dataframe, grouped,  how='left',\n",
    "                         left_on=['C/A', 'UNIT', 'SCP','STATION'],\n",
    "                         right_on = ['C/A', 'UNIT', 'SCP','STATION'])\n",
    "    \n",
    "    #A column with original name will be created, filling in nans with means\n",
    "    dataframe['DIFF_FOOTTRAFFIC'] = dataframe.DIFF_FOOTTRAFFIC_x.fillna(dataframe.DIFF_FOOTTRAFFIC_y)\n",
    "    \n",
    "    #Deleting the original, now unconventionally spelled with NaNs in it \n",
    "    del dataframe['DIFF_FOOTTRAFFIC_x']\n",
    "    \n",
    "    #Keeping a column for turnstile average as needed\n",
    "    dataframe = dataframe.rename(columns = {'DIFF_FOOTTRAFFIC_y':'MEDIANTRAFFIC'})\n",
    "    \n",
    "    #Removing large positive outliers in the dataset 90th percentile\n",
    "    dataframe = dataframe[dataframe.DIFF_FOOTTRAFFIC < dataframe.DIFF_FOOTTRAFFIC.quantile(.90)]\n",
    "\n",
    "    return dataframe"
   ]
  },
  {
   "cell_type": "code",
   "execution_count": 35,
   "metadata": {},
   "outputs": [
    {
     "name": "stdout",
     "output_type": "stream",
     "text": [
      "Dec rows  618712  now:  549388 \n",
      "\n",
      "Mar rows  616471  now:  547565 \n",
      "\n",
      "June rows  620072  now:  547565 \n",
      "\n"
     ]
    }
   ],
   "source": [
    "df_dec19_4hrfoottraffic = cleanTraffic(df_dec19_4hrfoottraffic)\n",
    "print('Dec rows ', dec_n_of_rows, ' now: ', df_dec19_4hrfoottraffic.shape[0], '\\n')\n",
    "\n",
    "df_mar20_4hrfoottraffic = cleanTraffic(df_mar20_4hrfoottraffic)\n",
    "print('Mar rows ', mar_n_of_rows, ' now: ', df_mar20_4hrfoottraffic.shape[0], '\\n')\n",
    "\n",
    "df_june20_4hrfoottraffic = cleanTraffic(df_june20_4hrfoottraffic)\n",
    "print('June rows ', june_n_of_rows, ' now: ', df_mar20_4hrfoottraffic.shape[0], '\\n')"
   ]
  },
  {
   "cell_type": "code",
   "execution_count": 63,
   "metadata": {},
   "outputs": [],
   "source": [
    "def turnstileColumn(dataframe):\n",
    "    '''\n",
    "    Takes an MTA dataframe & creates a new column\n",
    "    Where there's an index number for each Turn Stile in frame.\n",
    "    '''\n",
    "    eachTS = dataframe.groupby([\"C/A\", \"UNIT\", \"SCP\", \"STATION\"])[['DIFF_FOOTTRAFFIC']].sum()\n",
    "    howMany = eachTS.shape[0]\n",
    "    eachTS['TURNSTILE'] = range(1,(howMany + 1))\n",
    "    del eachTS['DIFF_FOOTTRAFFIC']\n",
    "    dataframe = pd.merge(dataframe, eachTS,  how='left',\n",
    "                         left_on=['C/A','UNIT','SCP', 'STATION'],\n",
    "                         right_on = ['C/A','UNIT','SCP', 'STATION'])    \n",
    "    return dataframe"
   ]
  },
  {
   "cell_type": "code",
   "execution_count": 65,
   "metadata": {},
   "outputs": [],
   "source": [
    "df_dec19_4hrfoottraffic = turnstileColumn(df_dec19_4hrfoottraffic)\n",
    "df_mar20_4hrfoottraffic = turnstileColumn(df_mar20_4hrfoottraffic)\n",
    "df_june20_4hrfoottraffic = turnstileColumn(df_june20_4hrfoottraffic)"
   ]
  },
  {
   "cell_type": "markdown",
   "metadata": {},
   "source": [
    "**Breaking up Penn Station**"
   ]
  },
  {
   "cell_type": "code",
   "execution_count": 68,
   "metadata": {},
   "outputs": [
    {
     "data": {
      "text/html": [
       "<div>\n",
       "<style scoped>\n",
       "    .dataframe tbody tr th:only-of-type {\n",
       "        vertical-align: middle;\n",
       "    }\n",
       "\n",
       "    .dataframe tbody tr th {\n",
       "        vertical-align: top;\n",
       "    }\n",
       "\n",
       "    .dataframe thead th {\n",
       "        text-align: right;\n",
       "    }\n",
       "</style>\n",
       "<table border=\"1\" class=\"dataframe\">\n",
       "  <thead>\n",
       "    <tr style=\"text-align: right;\">\n",
       "      <th></th>\n",
       "      <th>C/A</th>\n",
       "      <th>UNIT</th>\n",
       "      <th>SCP</th>\n",
       "      <th>STATION</th>\n",
       "      <th>DATE</th>\n",
       "      <th>TIME</th>\n",
       "      <th>TIMESTAMP</th>\n",
       "      <th>ABBREV_TIME</th>\n",
       "      <th>TOTAL_FOOTTRAFFIC</th>\n",
       "      <th>count</th>\n",
       "      <th>MEDIANTRAFFIC</th>\n",
       "      <th>DIFF_FOOTTRAFFIC</th>\n",
       "      <th>TURNSTILE</th>\n",
       "    </tr>\n",
       "  </thead>\n",
       "  <tbody>\n",
       "    <tr>\n",
       "      <th>0</th>\n",
       "      <td>A002</td>\n",
       "      <td>R051</td>\n",
       "      <td>02-00-00</td>\n",
       "      <td>59 ST</td>\n",
       "      <td>11/30/2019</td>\n",
       "      <td>03:00:00</td>\n",
       "      <td>2019-11-30 03:00:00</td>\n",
       "      <td>3.0</td>\n",
       "      <td>9761420.0</td>\n",
       "      <td>1.0</td>\n",
       "      <td>294.0</td>\n",
       "      <td>294.0</td>\n",
       "      <td>1</td>\n",
       "    </tr>\n",
       "    <tr>\n",
       "      <th>1</th>\n",
       "      <td>A002</td>\n",
       "      <td>R051</td>\n",
       "      <td>02-00-00</td>\n",
       "      <td>59 ST</td>\n",
       "      <td>11/30/2019</td>\n",
       "      <td>07:00:00</td>\n",
       "      <td>2019-11-30 07:00:00</td>\n",
       "      <td>7.0</td>\n",
       "      <td>9761447.0</td>\n",
       "      <td>1.0</td>\n",
       "      <td>294.0</td>\n",
       "      <td>27.0</td>\n",
       "      <td>1</td>\n",
       "    </tr>\n",
       "  </tbody>\n",
       "</table>\n",
       "</div>"
      ],
      "text/plain": [
       "    C/A  UNIT       SCP STATION        DATE      TIME           TIMESTAMP  \\\n",
       "0  A002  R051  02-00-00   59 ST  11/30/2019  03:00:00 2019-11-30 03:00:00   \n",
       "1  A002  R051  02-00-00   59 ST  11/30/2019  07:00:00 2019-11-30 07:00:00   \n",
       "\n",
       "   ABBREV_TIME  TOTAL_FOOTTRAFFIC  count  MEDIANTRAFFIC  DIFF_FOOTTRAFFIC  \\\n",
       "0          3.0          9761420.0    1.0          294.0             294.0   \n",
       "1          7.0          9761447.0    1.0          294.0              27.0   \n",
       "\n",
       "   TURNSTILE  \n",
       "0          1  \n",
       "1          1  "
      ]
     },
     "execution_count": 68,
     "metadata": {},
     "output_type": "execute_result"
    }
   ],
   "source": [
    "df_dec19_4hrfoottraffic.head(2)"
   ]
  },
  {
   "cell_type": "code",
   "execution_count": 67,
   "metadata": {},
   "outputs": [
    {
     "ename": "KeyError",
     "evalue": "'LINENAME'",
     "output_type": "error",
     "traceback": [
      "\u001b[0;31m---------------------------------------------------------------------------\u001b[0m",
      "\u001b[0;31mKeyError\u001b[0m                                  Traceback (most recent call last)",
      "\u001b[0;32m~/opt/anaconda3/lib/python3.7/site-packages/pandas/core/indexes/base.py\u001b[0m in \u001b[0;36mget_loc\u001b[0;34m(self, key, method, tolerance)\u001b[0m\n\u001b[1;32m   2645\u001b[0m             \u001b[0;32mtry\u001b[0m\u001b[0;34m:\u001b[0m\u001b[0;34m\u001b[0m\u001b[0;34m\u001b[0m\u001b[0m\n\u001b[0;32m-> 2646\u001b[0;31m                 \u001b[0;32mreturn\u001b[0m \u001b[0mself\u001b[0m\u001b[0;34m.\u001b[0m\u001b[0m_engine\u001b[0m\u001b[0;34m.\u001b[0m\u001b[0mget_loc\u001b[0m\u001b[0;34m(\u001b[0m\u001b[0mkey\u001b[0m\u001b[0;34m)\u001b[0m\u001b[0;34m\u001b[0m\u001b[0;34m\u001b[0m\u001b[0m\n\u001b[0m\u001b[1;32m   2647\u001b[0m             \u001b[0;32mexcept\u001b[0m \u001b[0mKeyError\u001b[0m\u001b[0;34m:\u001b[0m\u001b[0;34m\u001b[0m\u001b[0;34m\u001b[0m\u001b[0m\n",
      "\u001b[0;32mpandas/_libs/index.pyx\u001b[0m in \u001b[0;36mpandas._libs.index.IndexEngine.get_loc\u001b[0;34m()\u001b[0m\n",
      "\u001b[0;32mpandas/_libs/index.pyx\u001b[0m in \u001b[0;36mpandas._libs.index.IndexEngine.get_loc\u001b[0;34m()\u001b[0m\n",
      "\u001b[0;32mpandas/_libs/hashtable_class_helper.pxi\u001b[0m in \u001b[0;36mpandas._libs.hashtable.PyObjectHashTable.get_item\u001b[0;34m()\u001b[0m\n",
      "\u001b[0;32mpandas/_libs/hashtable_class_helper.pxi\u001b[0m in \u001b[0;36mpandas._libs.hashtable.PyObjectHashTable.get_item\u001b[0;34m()\u001b[0m\n",
      "\u001b[0;31mKeyError\u001b[0m: 'LINENAME'",
      "\nDuring handling of the above exception, another exception occurred:\n",
      "\u001b[0;31mKeyError\u001b[0m                                  Traceback (most recent call last)",
      "\u001b[0;32m<ipython-input-67-841d861d8a6a>\u001b[0m in \u001b[0;36m<module>\u001b[0;34m\u001b[0m\n\u001b[0;32m----> 1\u001b[0;31m \u001b[0mdf_dec19_4hrfoottraffic\u001b[0m \u001b[0;34m=\u001b[0m \u001b[0mtwoPennStation\u001b[0m\u001b[0;34m(\u001b[0m\u001b[0mdf_dec19_4hrfoottraffic\u001b[0m\u001b[0;34m)\u001b[0m\u001b[0;34m\u001b[0m\u001b[0;34m\u001b[0m\u001b[0m\n\u001b[0m\u001b[1;32m      2\u001b[0m \u001b[0mdf_mar20_4hrfoottraffic\u001b[0m \u001b[0;34m=\u001b[0m \u001b[0mtwoPennStation\u001b[0m\u001b[0;34m(\u001b[0m\u001b[0mdf_mar20_4hrfoottraffic\u001b[0m\u001b[0;34m)\u001b[0m\u001b[0;34m\u001b[0m\u001b[0;34m\u001b[0m\u001b[0m\n\u001b[1;32m      3\u001b[0m \u001b[0mdf_june20_4hrfoottraffic\u001b[0m \u001b[0;34m=\u001b[0m \u001b[0mtwoPennStation\u001b[0m\u001b[0;34m(\u001b[0m\u001b[0mdf_june20_4hrfoottraffic\u001b[0m\u001b[0;34m)\u001b[0m\u001b[0;34m\u001b[0m\u001b[0;34m\u001b[0m\u001b[0m\n",
      "\u001b[0;32m<ipython-input-66-cdd84091515f>\u001b[0m in \u001b[0;36mtwoPennStation\u001b[0;34m(dataframe)\u001b[0m\n\u001b[1;32m      1\u001b[0m \u001b[0;32mdef\u001b[0m \u001b[0mtwoPennStation\u001b[0m\u001b[0;34m(\u001b[0m\u001b[0mdataframe\u001b[0m\u001b[0;34m)\u001b[0m\u001b[0;34m:\u001b[0m\u001b[0;34m\u001b[0m\u001b[0;34m\u001b[0m\u001b[0m\n\u001b[0;32m----> 2\u001b[0;31m     \u001b[0mdataframe\u001b[0m\u001b[0;34m.\u001b[0m\u001b[0mloc\u001b[0m\u001b[0;34m[\u001b[0m\u001b[0;34m(\u001b[0m\u001b[0mdataframe\u001b[0m\u001b[0;34m[\u001b[0m\u001b[0;34m'STATION'\u001b[0m\u001b[0;34m]\u001b[0m \u001b[0;34m==\u001b[0m \u001b[0;34m'34 ST-PENN STA'\u001b[0m\u001b[0;34m)\u001b[0m \u001b[0;34m&\u001b[0m \u001b[0;34m(\u001b[0m\u001b[0mdataframe\u001b[0m\u001b[0;34m[\u001b[0m\u001b[0;34m'LINENAME'\u001b[0m\u001b[0;34m]\u001b[0m \u001b[0;34m==\u001b[0m \u001b[0;34m'123'\u001b[0m\u001b[0;34m)\u001b[0m\u001b[0;34m,\u001b[0m \u001b[0;34m'STATION'\u001b[0m\u001b[0;34m]\u001b[0m \u001b[0;34m=\u001b[0m \u001b[0;34m'34 ST-PENN EXPRESS'\u001b[0m\u001b[0;34m\u001b[0m\u001b[0;34m\u001b[0m\u001b[0m\n\u001b[0m\u001b[1;32m      3\u001b[0m     \u001b[0;31m# This line will make LINENAME 123ACE categorized as LINENAME ACE\u001b[0m\u001b[0;34m\u001b[0m\u001b[0;34m\u001b[0m\u001b[0;34m\u001b[0m\u001b[0m\n\u001b[1;32m      4\u001b[0m     \u001b[0mdataframe\u001b[0m\u001b[0;34m.\u001b[0m\u001b[0mloc\u001b[0m\u001b[0;34m[\u001b[0m\u001b[0;34m(\u001b[0m\u001b[0mdataframe\u001b[0m\u001b[0;34m[\u001b[0m\u001b[0;34m'STATION'\u001b[0m\u001b[0;34m]\u001b[0m \u001b[0;34m==\u001b[0m \u001b[0;34m'34 ST-PENN STA'\u001b[0m\u001b[0;34m)\u001b[0m \u001b[0;34m&\u001b[0m \u001b[0;34m(\u001b[0m\u001b[0mdataframe\u001b[0m\u001b[0;34m[\u001b[0m\u001b[0;34m'LINENAME'\u001b[0m\u001b[0;34m]\u001b[0m \u001b[0;34m==\u001b[0m \u001b[0;34m'123ACE'\u001b[0m\u001b[0;34m)\u001b[0m\u001b[0;34m,\u001b[0m \u001b[0;34m'STATION'\u001b[0m\u001b[0;34m]\u001b[0m \u001b[0;34m=\u001b[0m \u001b[0;34m'34 ST-PENN EXPRESS'\u001b[0m\u001b[0;34m\u001b[0m\u001b[0;34m\u001b[0m\u001b[0m\n\u001b[1;32m      5\u001b[0m \u001b[0;34m\u001b[0m\u001b[0m\n",
      "\u001b[0;32m~/opt/anaconda3/lib/python3.7/site-packages/pandas/core/frame.py\u001b[0m in \u001b[0;36m__getitem__\u001b[0;34m(self, key)\u001b[0m\n\u001b[1;32m   2798\u001b[0m             \u001b[0;32mif\u001b[0m \u001b[0mself\u001b[0m\u001b[0;34m.\u001b[0m\u001b[0mcolumns\u001b[0m\u001b[0;34m.\u001b[0m\u001b[0mnlevels\u001b[0m \u001b[0;34m>\u001b[0m \u001b[0;36m1\u001b[0m\u001b[0;34m:\u001b[0m\u001b[0;34m\u001b[0m\u001b[0;34m\u001b[0m\u001b[0m\n\u001b[1;32m   2799\u001b[0m                 \u001b[0;32mreturn\u001b[0m \u001b[0mself\u001b[0m\u001b[0;34m.\u001b[0m\u001b[0m_getitem_multilevel\u001b[0m\u001b[0;34m(\u001b[0m\u001b[0mkey\u001b[0m\u001b[0;34m)\u001b[0m\u001b[0;34m\u001b[0m\u001b[0;34m\u001b[0m\u001b[0m\n\u001b[0;32m-> 2800\u001b[0;31m             \u001b[0mindexer\u001b[0m \u001b[0;34m=\u001b[0m \u001b[0mself\u001b[0m\u001b[0;34m.\u001b[0m\u001b[0mcolumns\u001b[0m\u001b[0;34m.\u001b[0m\u001b[0mget_loc\u001b[0m\u001b[0;34m(\u001b[0m\u001b[0mkey\u001b[0m\u001b[0;34m)\u001b[0m\u001b[0;34m\u001b[0m\u001b[0;34m\u001b[0m\u001b[0m\n\u001b[0m\u001b[1;32m   2801\u001b[0m             \u001b[0;32mif\u001b[0m \u001b[0mis_integer\u001b[0m\u001b[0;34m(\u001b[0m\u001b[0mindexer\u001b[0m\u001b[0;34m)\u001b[0m\u001b[0;34m:\u001b[0m\u001b[0;34m\u001b[0m\u001b[0;34m\u001b[0m\u001b[0m\n\u001b[1;32m   2802\u001b[0m                 \u001b[0mindexer\u001b[0m \u001b[0;34m=\u001b[0m \u001b[0;34m[\u001b[0m\u001b[0mindexer\u001b[0m\u001b[0;34m]\u001b[0m\u001b[0;34m\u001b[0m\u001b[0;34m\u001b[0m\u001b[0m\n",
      "\u001b[0;32m~/opt/anaconda3/lib/python3.7/site-packages/pandas/core/indexes/base.py\u001b[0m in \u001b[0;36mget_loc\u001b[0;34m(self, key, method, tolerance)\u001b[0m\n\u001b[1;32m   2646\u001b[0m                 \u001b[0;32mreturn\u001b[0m \u001b[0mself\u001b[0m\u001b[0;34m.\u001b[0m\u001b[0m_engine\u001b[0m\u001b[0;34m.\u001b[0m\u001b[0mget_loc\u001b[0m\u001b[0;34m(\u001b[0m\u001b[0mkey\u001b[0m\u001b[0;34m)\u001b[0m\u001b[0;34m\u001b[0m\u001b[0;34m\u001b[0m\u001b[0m\n\u001b[1;32m   2647\u001b[0m             \u001b[0;32mexcept\u001b[0m \u001b[0mKeyError\u001b[0m\u001b[0;34m:\u001b[0m\u001b[0;34m\u001b[0m\u001b[0;34m\u001b[0m\u001b[0m\n\u001b[0;32m-> 2648\u001b[0;31m                 \u001b[0;32mreturn\u001b[0m \u001b[0mself\u001b[0m\u001b[0;34m.\u001b[0m\u001b[0m_engine\u001b[0m\u001b[0;34m.\u001b[0m\u001b[0mget_loc\u001b[0m\u001b[0;34m(\u001b[0m\u001b[0mself\u001b[0m\u001b[0;34m.\u001b[0m\u001b[0m_maybe_cast_indexer\u001b[0m\u001b[0;34m(\u001b[0m\u001b[0mkey\u001b[0m\u001b[0;34m)\u001b[0m\u001b[0;34m)\u001b[0m\u001b[0;34m\u001b[0m\u001b[0;34m\u001b[0m\u001b[0m\n\u001b[0m\u001b[1;32m   2649\u001b[0m         \u001b[0mindexer\u001b[0m \u001b[0;34m=\u001b[0m \u001b[0mself\u001b[0m\u001b[0;34m.\u001b[0m\u001b[0mget_indexer\u001b[0m\u001b[0;34m(\u001b[0m\u001b[0;34m[\u001b[0m\u001b[0mkey\u001b[0m\u001b[0;34m]\u001b[0m\u001b[0;34m,\u001b[0m \u001b[0mmethod\u001b[0m\u001b[0;34m=\u001b[0m\u001b[0mmethod\u001b[0m\u001b[0;34m,\u001b[0m \u001b[0mtolerance\u001b[0m\u001b[0;34m=\u001b[0m\u001b[0mtolerance\u001b[0m\u001b[0;34m)\u001b[0m\u001b[0;34m\u001b[0m\u001b[0;34m\u001b[0m\u001b[0m\n\u001b[1;32m   2650\u001b[0m         \u001b[0;32mif\u001b[0m \u001b[0mindexer\u001b[0m\u001b[0;34m.\u001b[0m\u001b[0mndim\u001b[0m \u001b[0;34m>\u001b[0m \u001b[0;36m1\u001b[0m \u001b[0;32mor\u001b[0m \u001b[0mindexer\u001b[0m\u001b[0;34m.\u001b[0m\u001b[0msize\u001b[0m \u001b[0;34m>\u001b[0m \u001b[0;36m1\u001b[0m\u001b[0;34m:\u001b[0m\u001b[0;34m\u001b[0m\u001b[0;34m\u001b[0m\u001b[0m\n",
      "\u001b[0;32mpandas/_libs/index.pyx\u001b[0m in \u001b[0;36mpandas._libs.index.IndexEngine.get_loc\u001b[0;34m()\u001b[0m\n",
      "\u001b[0;32mpandas/_libs/index.pyx\u001b[0m in \u001b[0;36mpandas._libs.index.IndexEngine.get_loc\u001b[0;34m()\u001b[0m\n",
      "\u001b[0;32mpandas/_libs/hashtable_class_helper.pxi\u001b[0m in \u001b[0;36mpandas._libs.hashtable.PyObjectHashTable.get_item\u001b[0;34m()\u001b[0m\n",
      "\u001b[0;32mpandas/_libs/hashtable_class_helper.pxi\u001b[0m in \u001b[0;36mpandas._libs.hashtable.PyObjectHashTable.get_item\u001b[0;34m()\u001b[0m\n",
      "\u001b[0;31mKeyError\u001b[0m: 'LINENAME'"
     ]
    }
   ],
   "source": [
    "df_dec19_4hrfoottraffic = twoPennStation(df_dec19_4hrfoottraffic)\n",
    "df_mar20_4hrfoottraffic = twoPennStation(df_mar20_4hrfoottraffic)\n",
    "df_june20_4hrfoottraffic = twoPennStation(df_june20_4hrfoottraffic)"
   ]
  },
  {
   "cell_type": "markdown",
   "metadata": {},
   "source": [
    "##### Final Check"
   ]
  },
  {
   "cell_type": "code",
   "execution_count": 42,
   "metadata": {},
   "outputs": [
    {
     "data": {
      "text/html": [
       "<div>\n",
       "<style scoped>\n",
       "    .dataframe tbody tr th:only-of-type {\n",
       "        vertical-align: middle;\n",
       "    }\n",
       "\n",
       "    .dataframe tbody tr th {\n",
       "        vertical-align: top;\n",
       "    }\n",
       "\n",
       "    .dataframe thead th {\n",
       "        text-align: right;\n",
       "    }\n",
       "</style>\n",
       "<table border=\"1\" class=\"dataframe\">\n",
       "  <thead>\n",
       "    <tr style=\"text-align: right;\">\n",
       "      <th></th>\n",
       "      <th>C/A</th>\n",
       "      <th>UNIT</th>\n",
       "      <th>SCP</th>\n",
       "      <th>STATION</th>\n",
       "      <th>DATE</th>\n",
       "      <th>TIME</th>\n",
       "      <th>TIMESTAMP</th>\n",
       "      <th>ABBREV_TIME</th>\n",
       "      <th>TOTAL_FOOTTRAFFIC</th>\n",
       "      <th>count</th>\n",
       "      <th>MEDIANTRAFFIC</th>\n",
       "      <th>DIFF_FOOTTRAFFIC</th>\n",
       "    </tr>\n",
       "  </thead>\n",
       "  <tbody>\n",
       "    <tr>\n",
       "      <th>0</th>\n",
       "      <td>A002</td>\n",
       "      <td>R051</td>\n",
       "      <td>02-00-00</td>\n",
       "      <td>59 ST</td>\n",
       "      <td>06/06/2020</td>\n",
       "      <td>00:00:00</td>\n",
       "      <td>2020-06-06 00:00:00</td>\n",
       "      <td>0.0</td>\n",
       "      <td>9942049.0</td>\n",
       "      <td>1.0</td>\n",
       "      <td>48.0</td>\n",
       "      <td>48.0</td>\n",
       "    </tr>\n",
       "    <tr>\n",
       "      <th>1</th>\n",
       "      <td>A002</td>\n",
       "      <td>R051</td>\n",
       "      <td>02-00-00</td>\n",
       "      <td>59 ST</td>\n",
       "      <td>06/06/2020</td>\n",
       "      <td>04:00:00</td>\n",
       "      <td>2020-06-06 04:00:00</td>\n",
       "      <td>4.0</td>\n",
       "      <td>9942050.0</td>\n",
       "      <td>1.0</td>\n",
       "      <td>48.0</td>\n",
       "      <td>1.0</td>\n",
       "    </tr>\n",
       "  </tbody>\n",
       "</table>\n",
       "</div>"
      ],
      "text/plain": [
       "    C/A  UNIT       SCP STATION        DATE      TIME           TIMESTAMP  \\\n",
       "0  A002  R051  02-00-00   59 ST  06/06/2020  00:00:00 2020-06-06 00:00:00   \n",
       "1  A002  R051  02-00-00   59 ST  06/06/2020  04:00:00 2020-06-06 04:00:00   \n",
       "\n",
       "   ABBREV_TIME  TOTAL_FOOTTRAFFIC  count  MEDIANTRAFFIC  DIFF_FOOTTRAFFIC  \n",
       "0          0.0          9942049.0    1.0           48.0              48.0  \n",
       "1          4.0          9942050.0    1.0           48.0               1.0  "
      ]
     },
     "execution_count": 42,
     "metadata": {},
     "output_type": "execute_result"
    }
   ],
   "source": [
    "df_june20_4hrfoottraffic.head(2)"
   ]
  },
  {
   "cell_type": "markdown",
   "metadata": {},
   "source": [
    "#### Re-writing anew to csvs"
   ]
  },
  {
   "cell_type": "code",
   "execution_count": 59,
   "metadata": {},
   "outputs": [],
   "source": [
    "\"\"\"\n",
    "This exports a CSV file that has contains:\n",
    "(1) difference in foot traffic every 4 hours (DIFF_FOOTTRAFFIC)\n",
    "(2) Removal of differences that result in negative values or those > 90th percentile (both outliers)\n",
    "\"\"\"\n",
    "\n",
    "\"\"\"\n",
    "df_dec19_4hrfoottraffic.to_csv('v2_btn_december_turnstiles.csv')\n",
    "df_mar20_4hrfoottraffic.to_csv('v2_btn_march_turnstiles.csv')\n",
    "df_june20_4hrfoottraffic.to_csv('v2_btn_june_turnstiles.csv')\n",
    "\"\"\";"
   ]
  },
  {
   "cell_type": "markdown",
   "metadata": {},
   "source": [
    "## Finding Top Stations"
   ]
  },
  {
   "cell_type": "code",
   "execution_count": 60,
   "metadata": {},
   "outputs": [],
   "source": [
    "df_dec19_maxfoottraffic = df_dec19_4hrfoottraffic.groupby([\"STATION\"], as_index=False)[\"DIFF_FOOTTRAFFIC\"].sum()\n",
    "df_mar20_maxfoottraffic = df_mar20_4hrfoottraffic.groupby([\"STATION\"], as_index=False)[\"DIFF_FOOTTRAFFIC\"].sum()\n",
    "df_june20_maxfoottraffic = df_june20_4hrfoottraffic.groupby([\"STATION\"], as_index=False)[\"DIFF_FOOTTRAFFIC\"].sum()"
   ]
  },
  {
   "cell_type": "code",
   "execution_count": 53,
   "metadata": {},
   "outputs": [
    {
     "data": {
      "text/html": [
       "<div>\n",
       "<style scoped>\n",
       "    .dataframe tbody tr th:only-of-type {\n",
       "        vertical-align: middle;\n",
       "    }\n",
       "\n",
       "    .dataframe tbody tr th {\n",
       "        vertical-align: top;\n",
       "    }\n",
       "\n",
       "    .dataframe thead th {\n",
       "        text-align: right;\n",
       "    }\n",
       "</style>\n",
       "<table border=\"1\" class=\"dataframe\">\n",
       "  <thead>\n",
       "    <tr style=\"text-align: right;\">\n",
       "      <th></th>\n",
       "      <th>C/A</th>\n",
       "      <th>UNIT</th>\n",
       "      <th>SCP</th>\n",
       "      <th>STATION</th>\n",
       "      <th>DATE</th>\n",
       "      <th>TIME</th>\n",
       "      <th>TIMESTAMP</th>\n",
       "      <th>ABBREV_TIME</th>\n",
       "      <th>TOTAL_FOOTTRAFFIC</th>\n",
       "      <th>count</th>\n",
       "      <th>MEDIANTRAFFIC</th>\n",
       "      <th>DIFF_FOOTTRAFFIC</th>\n",
       "    </tr>\n",
       "  </thead>\n",
       "  <tbody>\n",
       "    <tr>\n",
       "      <th>0</th>\n",
       "      <td>A002</td>\n",
       "      <td>R051</td>\n",
       "      <td>02-00-00</td>\n",
       "      <td>59 ST</td>\n",
       "      <td>11/30/2019</td>\n",
       "      <td>03:00:00</td>\n",
       "      <td>2019-11-30 03:00:00</td>\n",
       "      <td>3.0</td>\n",
       "      <td>9761420.0</td>\n",
       "      <td>1.0</td>\n",
       "      <td>294.0</td>\n",
       "      <td>294.0</td>\n",
       "    </tr>\n",
       "    <tr>\n",
       "      <th>1</th>\n",
       "      <td>A002</td>\n",
       "      <td>R051</td>\n",
       "      <td>02-00-00</td>\n",
       "      <td>59 ST</td>\n",
       "      <td>11/30/2019</td>\n",
       "      <td>07:00:00</td>\n",
       "      <td>2019-11-30 07:00:00</td>\n",
       "      <td>7.0</td>\n",
       "      <td>9761447.0</td>\n",
       "      <td>1.0</td>\n",
       "      <td>294.0</td>\n",
       "      <td>27.0</td>\n",
       "    </tr>\n",
       "  </tbody>\n",
       "</table>\n",
       "</div>"
      ],
      "text/plain": [
       "    C/A  UNIT       SCP STATION        DATE      TIME           TIMESTAMP  \\\n",
       "0  A002  R051  02-00-00   59 ST  11/30/2019  03:00:00 2019-11-30 03:00:00   \n",
       "1  A002  R051  02-00-00   59 ST  11/30/2019  07:00:00 2019-11-30 07:00:00   \n",
       "\n",
       "   ABBREV_TIME  TOTAL_FOOTTRAFFIC  count  MEDIANTRAFFIC  DIFF_FOOTTRAFFIC  \n",
       "0          3.0          9761420.0    1.0          294.0             294.0  \n",
       "1          7.0          9761447.0    1.0          294.0              27.0  "
      ]
     },
     "execution_count": 53,
     "metadata": {},
     "output_type": "execute_result"
    }
   ],
   "source": [
    "# Quick checking of DIFF_FOOTTRAFFIC column; looks correct\n",
    "\n",
    "df_dec19_4hrfoottraffic.head(2)"
   ]
  },
  {
   "cell_type": "markdown",
   "metadata": {},
   "source": [
    "\n",
    "Checking the top 20 most trafficked stations; the majority in top 10 match"
   ]
  },
  {
   "cell_type": "code",
   "execution_count": 54,
   "metadata": {},
   "outputs": [
    {
     "data": {
      "text/html": [
       "<div>\n",
       "<style scoped>\n",
       "    .dataframe tbody tr th:only-of-type {\n",
       "        vertical-align: middle;\n",
       "    }\n",
       "\n",
       "    .dataframe tbody tr th {\n",
       "        vertical-align: top;\n",
       "    }\n",
       "\n",
       "    .dataframe thead th {\n",
       "        text-align: right;\n",
       "    }\n",
       "</style>\n",
       "<table border=\"1\" class=\"dataframe\">\n",
       "  <thead>\n",
       "    <tr style=\"text-align: right;\">\n",
       "      <th></th>\n",
       "      <th>index</th>\n",
       "      <th>STATION</th>\n",
       "      <th>DIFF_FOOTTRAFFIC_DEC</th>\n",
       "      <th>DIFF_FOOTTRAFFIC_MAR</th>\n",
       "      <th>DIFF_FOOTTRAFFIC_JUNE</th>\n",
       "      <th>DIFF_FOOTTRAFFIC_TOTAL</th>\n",
       "    </tr>\n",
       "  </thead>\n",
       "  <tbody>\n",
       "    <tr>\n",
       "      <th>0</th>\n",
       "      <td>0</td>\n",
       "      <td>34 ST-PENN STA</td>\n",
       "      <td>2884012.0</td>\n",
       "      <td>911461.0</td>\n",
       "      <td>496419.0</td>\n",
       "      <td>4291892.0</td>\n",
       "    </tr>\n",
       "    <tr>\n",
       "      <th>1</th>\n",
       "      <td>1</td>\n",
       "      <td>FULTON ST</td>\n",
       "      <td>1983448.0</td>\n",
       "      <td>654067.0</td>\n",
       "      <td>355076.0</td>\n",
       "      <td>2992591.0</td>\n",
       "    </tr>\n",
       "    <tr>\n",
       "      <th>2</th>\n",
       "      <td>2</td>\n",
       "      <td>23 ST</td>\n",
       "      <td>1905650.0</td>\n",
       "      <td>605035.0</td>\n",
       "      <td>326204.0</td>\n",
       "      <td>2836889.0</td>\n",
       "    </tr>\n",
       "    <tr>\n",
       "      <th>3</th>\n",
       "      <td>3</td>\n",
       "      <td>86 ST</td>\n",
       "      <td>1706099.0</td>\n",
       "      <td>600540.0</td>\n",
       "      <td>297415.0</td>\n",
       "      <td>2604054.0</td>\n",
       "    </tr>\n",
       "    <tr>\n",
       "      <th>4</th>\n",
       "      <td>4</td>\n",
       "      <td>GRD CNTRL-42 ST</td>\n",
       "      <td>1580469.0</td>\n",
       "      <td>600121.0</td>\n",
       "      <td>200067.0</td>\n",
       "      <td>2380657.0</td>\n",
       "    </tr>\n",
       "    <tr>\n",
       "      <th>5</th>\n",
       "      <td>5</td>\n",
       "      <td>59 ST</td>\n",
       "      <td>1553536.0</td>\n",
       "      <td>465495.0</td>\n",
       "      <td>222464.0</td>\n",
       "      <td>2241495.0</td>\n",
       "    </tr>\n",
       "    <tr>\n",
       "      <th>6</th>\n",
       "      <td>6</td>\n",
       "      <td>CANAL ST</td>\n",
       "      <td>1516187.0</td>\n",
       "      <td>418639.0</td>\n",
       "      <td>214003.0</td>\n",
       "      <td>2148829.0</td>\n",
       "    </tr>\n",
       "    <tr>\n",
       "      <th>7</th>\n",
       "      <td>7</td>\n",
       "      <td>34 ST-HERALD SQ</td>\n",
       "      <td>1356545.0</td>\n",
       "      <td>508357.0</td>\n",
       "      <td>256336.0</td>\n",
       "      <td>2121238.0</td>\n",
       "    </tr>\n",
       "    <tr>\n",
       "      <th>8</th>\n",
       "      <td>8</td>\n",
       "      <td>125 ST</td>\n",
       "      <td>1374726.0</td>\n",
       "      <td>517337.0</td>\n",
       "      <td>219002.0</td>\n",
       "      <td>2111065.0</td>\n",
       "    </tr>\n",
       "    <tr>\n",
       "      <th>9</th>\n",
       "      <td>9</td>\n",
       "      <td>42 ST-PORT AUTH</td>\n",
       "      <td>1447790.0</td>\n",
       "      <td>425339.0</td>\n",
       "      <td>136271.0</td>\n",
       "      <td>2009400.0</td>\n",
       "    </tr>\n",
       "  </tbody>\n",
       "</table>\n",
       "</div>"
      ],
      "text/plain": [
       "   index          STATION  DIFF_FOOTTRAFFIC_DEC  DIFF_FOOTTRAFFIC_MAR  \\\n",
       "0      0   34 ST-PENN STA             2884012.0              911461.0   \n",
       "1      1        FULTON ST             1983448.0              654067.0   \n",
       "2      2            23 ST             1905650.0              605035.0   \n",
       "3      3            86 ST             1706099.0              600540.0   \n",
       "4      4  GRD CNTRL-42 ST             1580469.0              600121.0   \n",
       "5      5            59 ST             1553536.0              465495.0   \n",
       "6      6         CANAL ST             1516187.0              418639.0   \n",
       "7      7  34 ST-HERALD SQ             1356545.0              508357.0   \n",
       "8      8           125 ST             1374726.0              517337.0   \n",
       "9      9  42 ST-PORT AUTH             1447790.0              425339.0   \n",
       "\n",
       "   DIFF_FOOTTRAFFIC_JUNE  DIFF_FOOTTRAFFIC_TOTAL  \n",
       "0               496419.0               4291892.0  \n",
       "1               355076.0               2992591.0  \n",
       "2               326204.0               2836889.0  \n",
       "3               297415.0               2604054.0  \n",
       "4               200067.0               2380657.0  \n",
       "5               222464.0               2241495.0  \n",
       "6               214003.0               2148829.0  \n",
       "7               256336.0               2121238.0  \n",
       "8               219002.0               2111065.0  \n",
       "9               136271.0               2009400.0  "
      ]
     },
     "execution_count": 54,
     "metadata": {},
     "output_type": "execute_result"
    }
   ],
   "source": [
    "# Checking the top 20 most trafficked stations; the majority in top 10 match\n",
    "\n",
    "total_foottraffic = df_dec19_maxfoottraffic.set_index('STATION').\\\n",
    "    join(df_mar20_maxfoottraffic.set_index('STATION'), lsuffix = '_DEC').\\\n",
    "    join(df_june20_maxfoottraffic.set_index('STATION'), lsuffix = '_MAR', rsuffix = '_JUNE')\n",
    "\n",
    "total_foottraffic['DIFF_FOOTTRAFFIC_TOTAL'] = total_foottraffic['DIFF_FOOTTRAFFIC_DEC'] +\\\n",
    "    total_foottraffic['DIFF_FOOTTRAFFIC_JUNE'] + total_foottraffic['DIFF_FOOTTRAFFIC_MAR']\n",
    "\n",
    "total_foottraffic = total_foottraffic.sort_values('DIFF_FOOTTRAFFIC_TOTAL', ascending=False).reset_index()\n",
    "\n",
    "total_foottraffic_top10 = total_foottraffic.sort_values('DIFF_FOOTTRAFFIC_TOTAL', ascending=False).reset_index().head(10)\n",
    "\n",
    "total_foottraffic_top10"
   ]
  },
  {
   "cell_type": "code",
   "execution_count": 56,
   "metadata": {},
   "outputs": [],
   "source": [
    "total_foottraffic.sort_values(['DIFF_FOOTTRAFFIC_TOTAL'], ascending = False).head(20);"
   ]
  },
  {
   "cell_type": "markdown",
   "metadata": {},
   "source": [
    "## Plotting Results"
   ]
  },
  {
   "cell_type": "code",
   "execution_count": 57,
   "metadata": {},
   "outputs": [
    {
     "data": {
      "image/png": "[encoded data removed]",
      "text/plain": [
       "<Figure size 864x432 with 1 Axes>"
      ]
     },
     "metadata": {
      "needs_background": "light"
     },
     "output_type": "display_data"
    }
   ],
   "source": [
    "# Top 10 Stations Plot\n",
    "\n",
    "plt.figure(figsize=[12, 6])\n",
    "font = {'family': 'sans-serif', 'weight': 'bold'}\n",
    "plt.rc('font', **font)\n",
    "\n",
    "ax1 = sns.barplot(x = 'STATION', y = total_foottraffic_top10['DIFF_FOOTTRAFFIC_TOTAL']/1e6,\n",
    "                  data = total_foottraffic_top10,\n",
    "                  palette = \"muted\",)\n",
    "plt.xticks(rotation=20)\n",
    "ax1.set_xlabel('Station Name', fontdict=font, fontsize='x-large')\n",
    "ax1.set_ylabel('Daily Foot Traffic (Millions)', fontdict=font, fontsize='x-large')\n",
    "plt.title('Top 10 Stations', fontdict=font, fontsize='xx-large');"
   ]
  },
  {
   "cell_type": "code",
   "execution_count": 58,
   "metadata": {},
   "outputs": [
    {
     "data": {
      "image/png": "[encoded data removed]",
      "text/plain": [
       "<Figure size 864x432 with 1 Axes>"
      ]
     },
     "metadata": {
      "needs_background": "light"
     },
     "output_type": "display_data"
    }
   ],
   "source": [
    "plt.figure(figsize=[12, 6])\n",
    "font = {'family': 'sans-serif', 'weight': 'bold'}\n",
    "plt.rc('font', **font)\n",
    "\n",
    "# December 2019 data\n",
    "ax1 = sns.lineplot(x = 'ABBREV_TIME', y = df_dec19_4hrfoottraffic['DIFF_FOOTTRAFFIC'],\n",
    "                  data = df_dec19_4hrfoottraffic,\n",
    "                  palette = \"muted\",)\n",
    "\n",
    "# March 2020 data\n",
    "sns.lineplot(x = 'ABBREV_TIME', y = df_mar20_4hrfoottraffic['DIFF_FOOTTRAFFIC'],\n",
    "                     data = df_mar20_4hrfoottraffic,\n",
    "                     palette = \"muted\", ax = ax1)\n",
    "\n",
    "# June 2020 data\n",
    "sns.lineplot(x = 'ABBREV_TIME', y = df_june20_4hrfoottraffic['DIFF_FOOTTRAFFIC'],\n",
    "                     data = df_june20_4hrfoottraffic,\n",
    "                     palette = \"muted\", ax = ax1)\n",
    "\n",
    "ax1.set_xlabel('Military Time', fontdict=font, fontsize='x-large')\n",
    "ax1.set_ylabel('Foot Traffic', fontdict=font, fontsize='x-large')\n",
    "\n",
    "plt.legend(['December 2019', 'March 2020', 'June 2020'])\n",
    "plt.xticks(rotation=0)\n",
    "plt.xticks(np.arange(0, 25, 1.0))\n",
    "plt.title('Amount of Riders/Month', fontdict=font, fontsize='x-large');"
   ]
  },
  {
   "cell_type": "code",
   "execution_count": null,
   "metadata": {},
   "outputs": [],
   "source": []
  }
 ],
 "metadata": {
  "kernelspec": {
   "display_name": "Python 3",
   "language": "python",
   "name": "python3"
  },
  "language_info": {
   "codemirror_mode": {
    "name": "ipython",
    "version": 3
   },
   "file_extension": ".py",
   "mimetype": "text/x-python",
   "name": "python",
   "nbconvert_exporter": "python",
   "pygments_lexer": "ipython3",
   "version": "3.7.7"
  }
 },
 "nbformat": 4,
 "nbformat_minor": 4
}
