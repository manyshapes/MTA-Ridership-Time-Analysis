{
 "cells": [
  {
   "cell_type": "code",
   "execution_count": null,
   "metadata": {},
   "outputs": [],
   "source": [
    "def betterColumns(dataframe):\n",
    "    dataframe['TIMESTAMP'] = pd.to_datetime(dataframe['DATE'] + ' ' + dataframe['TIME'])\n",
    "    dataframe.columns = dataframe.columns.str.rstrip()\n",
    "    dataframe['FOOTTRAFFIC'] = dataframe['ENTRIES'] + dataframe['EXITS']\n",
    "    return dataframe\n",
    "\n",
    "def turnstileColumn(dataframe):\n",
    "    '''\n",
    "    Takes an MTA dataframe & creates a new column\n",
    "    Where there's an index number for each Turn Stile in frame.\n",
    "    '''\n",
    "    eachTS = dataframe.groupby([\"C/A\", \"UNIT\", \"SCP\", \"STATION\"])[['ENTRIES']].sum()\n",
    "    eachTS['TURNSTILE'] = range(1,(len(eachTS) + 1))\n",
    "    del eachTS['ENTRIES']\n",
    "    dataframe = pd.merge(dataframe, eachTS,  how='left',\n",
    "                         left_on=['C/A','UNIT','SCP', 'STATION'],\n",
    "                         right_on = ['C/A','UNIT','SCP', 'STATION'])    \n",
    "    return dataframe\n",
    "\n",
    "def trafficFix(dataframe):\n",
    "    dataframe['FOOTTRAFFIC'] = dataframe.groupby('TURNSTILE')['FOOTTRAFFIC'].diff().fillna(method='backfill')\n",
    "    dataframe['FOOTTRAFFIC'] = dataframe['FOOTTRAFFIC'].astype(int)\n",
    "    return dataframe\n",
    "\n",
    "def likeNew(dataframe):\n",
    "    dataframe = betterColumns(dataframe)\n",
    "    dataframe = turnstileColumn(dataframe)\n",
    "    dataframe = trafficFix(dataframe)\n",
    "    return dataframe"
   ]
  }
 ],
 "metadata": {
  "kernelspec": {
   "display_name": "Python 3",
   "language": "python",
   "name": "python3"
  },
  "language_info": {
   "codemirror_mode": {
    "name": "ipython",
    "version": 3
   },
   "file_extension": ".py",
   "mimetype": "text/x-python",
   "name": "python",
   "nbconvert_exporter": "python",
   "pygments_lexer": "ipython3",
   "version": "3.7.7"
  }
 },
 "nbformat": 4,
 "nbformat_minor": 4
}
